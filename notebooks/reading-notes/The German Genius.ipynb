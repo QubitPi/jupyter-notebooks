{
 "cells": [
  {
   "cell_type": "markdown",
   "id": "eb8d4081-6e55-43d9-9af5-588e25914c7f",
   "metadata": {},
   "source": [
    "The Great Turn in German Life\n",
    "-----------------------------"
   ]
  },
  {
   "cell_type": "markdown",
   "id": "f9ef3032-bf2c-4047-ac93-2ce1745f031e",
   "metadata": {},
   "source": [
    "### THE RISE OF THE UNIVERSITY"
   ]
  },
  {
   "cell_type": "code",
   "execution_count": 1,
   "id": "20e82b0d-d1bd-441f-bb2d-2abe02220e16",
   "metadata": {},
   "outputs": [
    {
     "name": "stdout",
     "output_type": "stream",
     "text": [
      "Warning: When  cdn_resources is 'local' jupyter notebook has issues displaying graphics on chrome/safari. Use cdn_resources='in_line' or cdn_resources='remote' if you have issues viewing graphics in a notebook.\n",
      "PyVis/The Great Turn in German Life - THE RISE OF THE UNIVERSITY.html\n"
     ]
    },
    {
     "data": {
      "text/html": [
       "\n",
       "        <iframe\n",
       "            width=\"100%\"\n",
       "            height=\"600px\"\n",
       "            src=\"PyVis/The Great Turn in German Life - THE RISE OF THE UNIVERSITY.html\"\n",
       "            frameborder=\"0\"\n",
       "            allowfullscreen\n",
       "            \n",
       "        ></iframe>\n",
       "        "
      ],
      "text/plain": [
       "<IPython.lib.display.IFrame at 0x1063f3a60>"
      ]
     },
     "execution_count": 1,
     "metadata": {},
     "output_type": "execute_result"
    }
   ],
   "source": [
    "import renderer\n",
    "\n",
    "net = renderer.render_arrows_app_json(\"arrows.app/The Great Turn in German Life - THE RISE OF THE UNIVERSITY.json\")\n",
    "net.show(\"PyVis/The Great Turn in German Life - THE RISE OF THE UNIVERSITY.html\")"
   ]
  },
  {
   "cell_type": "markdown",
   "id": "86e0efa8-9bd7-4a67-9605-d46c71c1dd92",
   "metadata": {},
   "source": [
    "### THE READING REVOLUTION, A NEW PUBLIC SPACE AND NATIONALISM EMERGING"
   ]
  },
  {
   "cell_type": "code",
   "execution_count": 2,
   "id": "2e4d185f-6d74-4447-89ee-15a3ed8ea3b3",
   "metadata": {},
   "outputs": [
    {
     "name": "stdout",
     "output_type": "stream",
     "text": [
      "Warning: When  cdn_resources is 'local' jupyter notebook has issues displaying graphics on chrome/safari. Use cdn_resources='in_line' or cdn_resources='remote' if you have issues viewing graphics in a notebook.\n",
      "PyVis/The Great Turn in German Life - THE READING REVOLUTION, A NEW PUBLIC SPACE AND NATIONALISM EMERGING.html\n"
     ]
    },
    {
     "data": {
      "text/html": [
       "\n",
       "        <iframe\n",
       "            width=\"100%\"\n",
       "            height=\"600px\"\n",
       "            src=\"PyVis/The Great Turn in German Life - THE READING REVOLUTION, A NEW PUBLIC SPACE AND NATIONALISM EMERGING.html\"\n",
       "            frameborder=\"0\"\n",
       "            allowfullscreen\n",
       "            \n",
       "        ></iframe>\n",
       "        "
      ],
      "text/plain": [
       "<IPython.lib.display.IFrame at 0x106d7c580>"
      ]
     },
     "execution_count": 2,
     "metadata": {},
     "output_type": "execute_result"
    }
   ],
   "source": [
    "net = renderer.render_arrows_app_json(\"arrows.app/The Great Turn in German Life - THE READING REVOLUTION, A NEW PUBLIC SPACE AND NATIONALISM EMERGING.json\")\n",
    "net.show(\"PyVis/The Great Turn in German Life - THE READING REVOLUTION, A NEW PUBLIC SPACE AND NATIONALISM EMERGING.html\")"
   ]
  }
 ],
 "metadata": {
  "kernelspec": {
   "display_name": "Python 3 (ipykernel)",
   "language": "python",
   "name": "python3"
  },
  "language_info": {
   "codemirror_mode": {
    "name": "ipython",
    "version": 3
   },
   "file_extension": ".py",
   "mimetype": "text/x-python",
   "name": "python",
   "nbconvert_exporter": "python",
   "pygments_lexer": "ipython3",
   "version": "3.10.7"
  }
 },
 "nbformat": 4,
 "nbformat_minor": 5
}
