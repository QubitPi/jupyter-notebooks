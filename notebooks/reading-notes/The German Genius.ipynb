{
 "cells": [
  {
   "cell_type": "code",
   "execution_count": 1,
   "id": "20e82b0d-d1bd-441f-bb2d-2abe02220e16",
   "metadata": {},
   "outputs": [
    {
     "ename": "ModuleNotFoundError",
     "evalue": "No module named 'pyvis'",
     "output_type": "error",
     "traceback": [
      "\u001b[0;31m---------------------------------------------------------------------------\u001b[0m",
      "\u001b[0;31mModuleNotFoundError\u001b[0m                       Traceback (most recent call last)",
      "Cell \u001b[0;32mIn[1], line 2\u001b[0m\n\u001b[1;32m      1\u001b[0m \u001b[38;5;28;01mimport\u001b[39;00m \u001b[38;5;21;01mjson\u001b[39;00m\n\u001b[0;32m----> 2\u001b[0m \u001b[38;5;28;01mfrom\u001b[39;00m \u001b[38;5;21;01mpyvis\u001b[39;00m\u001b[38;5;21;01m.\u001b[39;00m\u001b[38;5;21;01mnetwork\u001b[39;00m \u001b[38;5;28;01mimport\u001b[39;00m Network\n\u001b[1;32m      4\u001b[0m \u001b[38;5;28;01mdef\u001b[39;00m \u001b[38;5;21mrender_arrows_app_json\u001b[39m(json_file: \u001b[38;5;28mstr\u001b[39m):\n\u001b[1;32m      7\u001b[0m     net \u001b[38;5;241m=\u001b[39m Network(notebook\u001b[38;5;241m=\u001b[39m\u001b[38;5;28;01mTrue\u001b[39;00m, directed\u001b[38;5;241m=\u001b[39m\u001b[38;5;28;01mTrue\u001b[39;00m)\n",
      "\u001b[0;31mModuleNotFoundError\u001b[0m: No module named 'pyvis'"
     ]
    }
   ],
   "source": [
    "import json\n",
    "from pyvis.network import Network\n",
    "\n",
    "def render_arrows_app_json(json_file: str):\n",
    "\n",
    "\n",
    "    net = Network(notebook=True, directed=True)\n",
    "\n",
    "    with open(json_file, 'r') as f:\n",
    "        graph = json.load(f)\n",
    "        nodes = graph[\"nodes\"]\n",
    "        links = graph[\"relationships\"]\n",
    "\n",
    "    for node in nodes:\n",
    "        net.add_node(node[\"id\"], label=node[\"caption\"])\n",
    "\n",
    "    for link in links:\n",
    "        net.add_edge(link[\"fromId\"],link[\"toId\"], title=link[\"type\"])\n",
    "\n",
    "    return net\n",
    "\n",
    "\n",
    "net = render_arrows_app_json(\"arrows.app/The Great Turn in German Life - THE RISE OF THE UNIVERSITY.json\")\n",
    "net.show(\"PyVis/The Great Turn in German Life - THE RISE OF THE UNIVERSITY.html\")"
   ]
  },
  {
   "cell_type": "code",
   "execution_count": null,
   "id": "2e4d185f-6d74-4447-89ee-15a3ed8ea3b3",
   "metadata": {},
   "outputs": [],
   "source": [
    "net = render_arrows_app_json(\"arrows.app/The Great Turn in German Life - THE READING REVOLUTION, A NEW PUBLIC SPACE AND NATIONALISM EMERGING.json\")\n",
    "net.show(\"PyVis/The Great Turn in German Life - THE READING REVOLUTION, A NEW PUBLIC SPACE AND NATIONALISM EMERGING.html\")"
   ]
  },
  {
   "cell_type": "code",
   "execution_count": null,
   "id": "37a10588-ce7e-4792-aec2-a9637bf2da84",
   "metadata": {},
   "outputs": [],
   "source": []
  }
 ],
 "metadata": {
  "kernelspec": {
   "display_name": "Python 3 (ipykernel)",
   "language": "python",
   "name": "python3"
  },
  "language_info": {
   "codemirror_mode": {
    "name": "ipython",
    "version": 3
   },
   "file_extension": ".py",
   "mimetype": "text/x-python",
   "name": "python",
   "nbconvert_exporter": "python",
   "pygments_lexer": "ipython3",
   "version": "3.10.7"
  }
 },
 "nbformat": 4,
 "nbformat_minor": 5
}
