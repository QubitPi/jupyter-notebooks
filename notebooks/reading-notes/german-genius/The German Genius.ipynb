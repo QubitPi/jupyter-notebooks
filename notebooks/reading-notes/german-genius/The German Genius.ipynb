{
 "cells": [
  {
   "cell_type": "code",
   "execution_count": 9,
   "id": "ee4cc28e-7d89-4cca-b06e-7fcf73babbcb",
   "metadata": {},
   "outputs": [
    {
     "name": "stdout",
     "output_type": "stream",
     "text": [
      "Warning: When  cdn_resources is 'local' jupyter notebook has issues displaying graphics on chrome/safari. Use cdn_resources='in_line' or cdn_resources='remote' if you have issues viewing graphics in a notebook.\n",
      "The Great Turn in German Life - THE RISE OF THE UNIVERSITY.html\n"
     ]
    },
    {
     "data": {
      "text/html": [
       "\n",
       "        <iframe\n",
       "            width=\"100%\"\n",
       "            height=\"600px\"\n",
       "            src=\"The Great Turn in German Life - THE RISE OF THE UNIVERSITY.html\"\n",
       "            frameborder=\"0\"\n",
       "            allowfullscreen\n",
       "            \n",
       "        ></iframe>\n",
       "        "
      ],
      "text/plain": [
       "<IPython.lib.display.IFrame at 0x1117a2560>"
      ]
     },
     "execution_count": 9,
     "metadata": {},
     "output_type": "execute_result"
    }
   ],
   "source": [
    "import json\n",
    "from pyvis.network import Network\n",
    "\n",
    "# Create a network\n",
    "net = Network(notebook=True)\n",
    "\n",
    "with open(\"arrows.app/The Great Turn in German Life - THE RISE OF THE UNIVERSITY.json\", 'r') as f:\n",
    "    graph = json.load(f)\n",
    "    nodes = graph[\"nodes\"]\n",
    "    links = graph[\"relationships\"]\n",
    "\n",
    "node_map = {}\n",
    "for node in nodes:\n",
    "    net.add_node(node[\"caption\"])\n",
    "    node_map[node[\"id\"]] = node[\"caption\"]\n",
    "\n",
    "\n",
    "for link in links:\n",
    "    net.add_edge(node_map[link[\"fromId\"]], node_map[link[\"toId\"]], title=link[\"type\"])\n",
    "\n",
    "# Show the network\n",
    "net.show(\"The Great Turn in German Life - THE RISE OF THE UNIVERSITY.html\")"
   ]
  },
  {
   "cell_type": "code",
   "execution_count": null,
   "id": "38221d5b-f59f-432c-82a2-7e4bc7a20937",
   "metadata": {},
   "outputs": [],
   "source": []
  }
 ],
 "metadata": {
  "kernelspec": {
   "display_name": "Python 3 (ipykernel)",
   "language": "python",
   "name": "python3"
  },
  "language_info": {
   "codemirror_mode": {
    "name": "ipython",
    "version": 3
   },
   "file_extension": ".py",
   "mimetype": "text/x-python",
   "name": "python",
   "nbconvert_exporter": "python",
   "pygments_lexer": "ipython3",
   "version": "3.10.7"
  }
 },
 "nbformat": 4,
 "nbformat_minor": 5
}
