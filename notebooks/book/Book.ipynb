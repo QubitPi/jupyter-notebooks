{
 "cells": [
  {
   "cell_type": "markdown",
   "id": "c22ef94a-f685-47b6-9db4-98ce1692c41b",
   "metadata": {},
   "source": [
    "__The purpose of this notebook is to explore what are the linguistic aspects of a book that influence a reader's opinion of that book__. \n",
    "\n",
    "Open Library Books API\n",
    "----------------------\n",
    "\n",
    "The data of this notebook is primarily coming from [Open Library Books API](https://openlibrary.org/dev/docs/api/books), which addresses the question of \"data by book\". But we need thounsands of books which means we need 1000 titles that\n",
    "\n",
    "1. has corresponding entries in the Open Library Books API, and\n",
    "2. their full texts are downloadable for analytics\n",
    "\n",
    "What we need is probably a \"book title database\". [Project Gutenberg](https://www.gutenberg.org/) hosts more than 70,000 books with downloadable texts. In addition, [a 3rd-party API](https://github.com/garethbjohnson/gutendex) surfaces all of the titles. This will be our good starting poing."
   ]
  },
  {
   "cell_type": "markdown",
   "id": "f5a2e03a-ccda-4ae9-b805-c30f8fe177ca",
   "metadata": {},
   "source": [
    "Getting List of Book Titles\n",
    "---------------------------\n",
    "\n",
    "We iterate over the [a 3rd-party API](https://github.com/garethbjohnson/gutendex) and get all titles first. This is a very costly operation. All titles have been pre-fetched and stored in a cache file. By default, we read titles from the cache. To update the titles, change the `read_titles_from_cache` from `True` to `False` below:"
   ]
  },
  {
   "cell_type": "code",
   "execution_count": 2,
   "id": "ee3a1794-0800-4750-acea-06b310faa3c5",
   "metadata": {},
   "outputs": [],
   "source": [
    "import requests\n",
    "\n",
    "titles = []\n",
    "\n",
    "read_titles_from_cache = True\n",
    "\n",
    "if read_titles_from_cache:\n",
    "    with open(\"titles.txt\", \"r\") as f:\n",
    "        titles = f.read().split(\"\\n\")\n",
    "else:\n",
    "    url = \"https://gutendex.com/books/?page=1\"\n",
    "    \n",
    "    while True:\n",
    "        data = requests.get(url).json()\n",
    "        books = data[\"results\"]\n",
    "        for book in books:\n",
    "            titles.append(book[\"title\"])\n",
    "    \n",
    "        if data[\"next\"]:\n",
    "            url = data[\"next\"]\n",
    "        else:\n",
    "            break\n",
    "\n",
    "    with open('titles.txt', 'w') as f:\n",
    "        f.write(\"\\n\".join(titles))"
   ]
  },
  {
   "cell_type": "code",
   "execution_count": null,
   "id": "a81aa1ad-9411-454c-ac41-28718da7bbbf",
   "metadata": {},
   "outputs": [],
   "source": []
  }
 ],
 "metadata": {
  "kernelspec": {
   "display_name": "Python 3 (ipykernel)",
   "language": "python",
   "name": "python3"
  },
  "language_info": {
   "codemirror_mode": {
    "name": "ipython",
    "version": 3
   },
   "file_extension": ".py",
   "mimetype": "text/x-python",
   "name": "python",
   "nbconvert_exporter": "python",
   "pygments_lexer": "ipython3",
   "version": "3.10.7"
  }
 },
 "nbformat": 4,
 "nbformat_minor": 5
}
