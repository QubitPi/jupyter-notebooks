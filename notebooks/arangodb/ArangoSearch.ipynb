{
 "cells": [
  {
   "cell_type": "markdown",
   "id": "74bde6e4-650e-4012-9b6a-5f3bc4e5d018",
   "metadata": {},
   "source": [
    "![Arango Logo](https://github.com/QubitPi/QubitPi/blob/master/img/arango-logo-with-text.png?raw=true \"Error loading QubitPi/img/arango-logo-with-text.png\")"
   ]
  },
  {
   "cell_type": "markdown",
   "id": "0f79b914-70b4-43f1-bdc7-6831f1fa9acd",
   "metadata": {},
   "source": [
    "ArangoSearch\n",
    "============\n",
    "\n",
    "ArangoSearch provides information retrieval features, natively integrated into ArangoDB’s query language and with support for all data models. _It is primarily a full-text search engine_, a much more powerful alternative to the full-text index type.\n",
    "\n",
    "ArangoSearch introduces the concept of Views which can be seen as virtual collections. Each View represents an inverted index to provide fast full-text searching over one or multiple linked collections and holds the configuration for the search capabilities, such as the attributes to index. It can cover multiple or even all attributes of the documents in the linked collections. Search results can be sorted by their similarity ranking to return the best matches first using popular scoring algorithms.\n",
    "\n",
    "Configurable Analyzers are available for text processing, such as for tokenization, language-specific word stemming, case conversion, removal of diacritical marks (accents) from characters and more. Analyzers can be used standalone or in combination with Views for sophisticated searching."
   ]
  },
  {
   "cell_type": "markdown",
   "id": "219c91d2-aa90-4c34-a12d-47502b20520e",
   "metadata": {},
   "source": [
    "IMDB Example Dataset\n",
    "--------------------\n",
    "\n",
    "![](./img/IMDB.png)"
   ]
  }
 ],
 "metadata": {
  "kernelspec": {
   "display_name": "Python 3 (ipykernel)",
   "language": "python",
   "name": "python3"
  },
  "language_info": {
   "codemirror_mode": {
    "name": "ipython",
    "version": 3
   },
   "file_extension": ".py",
   "mimetype": "text/x-python",
   "name": "python",
   "nbconvert_exporter": "python",
   "pygments_lexer": "ipython3",
   "version": "3.10.7"
  }
 },
 "nbformat": 4,
 "nbformat_minor": 5
}
