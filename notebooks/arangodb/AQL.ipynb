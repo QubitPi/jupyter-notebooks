{
 "cells": [
  {
   "cell_type": "markdown",
   "id": "aed2fb5a-6baa-4d4e-8783-dac94c61cfcf",
   "metadata": {},
   "source": [
    "![Arango Logo](https://github.com/QubitPi/QubitPi/blob/master/img/arango-logo-with-text.png?raw=true \"Error loading QubitPi/img/arango-logo-with-text.png\")"
   ]
  },
  {
   "cell_type": "markdown",
   "id": "687ce9a7-2f5c-4fcd-b718-212b6a491f99",
   "metadata": {},
   "source": [
    "Arango AQL Tutorial\n",
    "===================\n",
    "\n",
    "This is a tutorial on ArangoDB’s query language AQL, built around a small dataset of characters from the novel and fantasy drama television series Game of Thrones (as of season 1). It includes character traits in two languages, some family relations, and last but not least a small set of filming locations, which makes for an interesting mix of data to work with."
   ]
  },
  {
   "cell_type": "markdown",
   "id": "652215c7-85f1-49de-a1b6-c5e1106a3175",
   "metadata": {},
   "source": [
    "Setup\n",
    "-----"
   ]
  },
  {
   "cell_type": "code",
   "execution_count": 1,
   "id": "3d478254-aebe-443a-8cb0-d41630227aa4",
   "metadata": {},
   "outputs": [],
   "source": [
    "import json\n",
    "import requests\n",
    "import sys\n",
    "import oasis # this is a local module \"notebooks/arangodb/oasis.py\"\n",
    "import time\n",
    "\n",
    "from pyArango.connection import *\n",
    "from arango import ArangoClient"
   ]
  },
  {
   "cell_type": "markdown",
   "id": "e1172472-687d-4d78-9841-bbb58812c493",
   "metadata": {},
   "source": [
    "Let's Create the temporary database:\n",
    "\n",
    "*Note: this notebook uses a temporary instance which will be autodeleted!*"
   ]
  },
  {
   "cell_type": "code",
   "execution_count": 2,
   "id": "7a18b278-9c86-4882-9566-597acc063bc4",
   "metadata": {},
   "outputs": [
    {
     "name": "stdout",
     "output_type": "stream",
     "text": [
      "Reusing cached credentials.\n",
      "https://tutorials.arangodb.cloud:8529\n",
      "Username: TUThrhphkuhtnkxt50ltae0mk\n",
      "Password: TUT32acqd4zoam7m8htnmtchp\n",
      "Database: TUT1lr05vsfy65x18p1746vqi\n"
     ]
    }
   ],
   "source": [
    "login = oasis.getTempCredentials(\n",
    "    tutorialName=\"AQLCrudTutorial\",\n",
    "    credentialProvider='https://tutorials.arangodb.cloud:8529/_db/_system/tutorialDB/tutorialDB'\n",
    ")\n",
    "\n",
    "database = oasis.connect_python_arango(login)\n",
    "aql = database.aql\n",
    "\n",
    "print(\"https://{}:{}\".format(login[\"hostname\"], login[\"port\"]))\n",
    "print(\"Username: \" + login[\"username\"])\n",
    "print(\"Password: \" + login[\"password\"])\n",
    "print(\"Database: \" + login[\"dbName\"])"
   ]
  },
  {
   "cell_type": "markdown",
   "id": "a13cd968-942b-4242-9663-547631f60319",
   "metadata": {},
   "source": [
    "We should be able to see an URL, a Username, a Password, and a Database printed above. Feel free to click the URL which will take us to the ArangoDB UI. On the login page, use the Username and Password above as thelogin credential, then on the next page choose the printed Database as the selected database. The UI should look like the screenshot below:\n",
    "\n",
    "![Arango UI](https://github.com/QubitPi/QubitPi/blob/master/img/arango-ui.png?raw=true \"Error loading QubitPi/img/arango-ui.png\")"
   ]
  },
  {
   "cell_type": "markdown",
   "id": "56b92ec8-9479-476d-a1fc-f283e861e73d",
   "metadata": {},
   "source": [
    "Creating Collections\n",
    "--------------------\n",
    "\n",
    "Before we can insert documents (data) with AQL into database, we need a place to put them in - a __Collection__. Collections can be managed via the web interface, arangosh or a driver. It is not possible to do so with AQL however."
   ]
  },
  {
   "cell_type": "code",
   "execution_count": 3,
   "id": "4eaf7e8a-56b5-4a9b-99f5-b5b782bcf5f3",
   "metadata": {},
   "outputs": [
    {
     "name": "stdout",
     "output_type": "stream",
     "text": [
      "We have 'Characters' collection now.\n"
     ]
    }
   ],
   "source": [
    "if not database.has_collection(\"Characters\"):\n",
    "  database.create_collection(\"Characters\")\n",
    "\n",
    "print(\"We have 'Characters' collection now.\")"
   ]
  },
  {
   "cell_type": "markdown",
   "id": "89116091-e5b6-4f24-8d4d-54ff4a409004",
   "metadata": {},
   "source": [
    "Creating and Reading Documents\n",
    "------------------------------\n",
    "\n",
    "The syntax for creating a new [document](https://arango.qubitpi.org/stable/concepts/data-structure/#documents) is `INSERT document INTO collectionName`. The document is an object like we may know it from JavaScript or JSON, which is comprised of attribute key and value pairs. The quotes around the attribute keys are optional in AQL. Keys are always character sequences (strings), whereas attribute values can have different types:\n",
    "\n",
    "- null\n",
    "- boolean (true, false)\n",
    "- number (integer and floating point)\n",
    "- string\n",
    "- array\n",
    "- object\n",
    "\n",
    "Name and surname of the character document we will be inserting are both string values. The alive state uses a boolean. Age is a numeric value. The traits are an array of strings. The entire document is an object."
   ]
  },
  {
   "cell_type": "code",
   "execution_count": 4,
   "id": "6c16a88e-10e6-48bc-bf03-c567147b3246",
   "metadata": {},
   "outputs": [
    {
     "data": {
      "text/plain": [
       "<Cursor>"
      ]
     },
     "execution_count": 4,
     "metadata": {},
     "output_type": "execute_result"
    }
   ],
   "source": [
    "insert_query = \"\"\"\n",
    "    INSERT {\n",
    "        \"name\": \"Ned\",\n",
    "        \"surname\": \"Stark\",\n",
    "        \"alive\": true,\n",
    "        \"age\": 41,\n",
    "        \"traits\": [\"A\",\"H\",\"C\",\"N\",\"P\"]\n",
    "    } INTO Characters\n",
    "    \"\"\"\n",
    "\n",
    "aql.execute(insert_query)"
   ]
  },
  {
   "cell_type": "markdown",
   "id": "3c984999-cab1-4d51-8bd4-d997c7859b41",
   "metadata": {},
   "source": [
    "We can also execute all the queries on the ArangoDB Web UI:\n",
    "\n",
    "![](./img/aql-on-ui.png)"
   ]
  },
  {
   "cell_type": "markdown",
   "id": "a548a861-df40-483f-b428-061eab029cfd",
   "metadata": {},
   "source": [
    "Let's check whether the insert was sucessfull by querying the `Characters` collections. The syntax of the loop is `FOR variableName IN collectionName`."
   ]
  },
  {
   "cell_type": "code",
   "execution_count": 5,
   "id": "351f7510-cbb5-43b0-8bbb-1970213a2b32",
   "metadata": {},
   "outputs": [
    {
     "name": "stdout",
     "output_type": "stream",
     "text": [
      "{'_key': '266270031705', '_id': 'Characters/266270031705', '_rev': '_i4TYj7W--A', 'name': 'Ned', 'surname': 'Stark', 'alive': True, 'age': 41, 'traits': ['A', 'H', 'C', 'N', 'P']}\n",
      "\n"
     ]
    }
   ],
   "source": [
    "all_characters = \"\"\"\n",
    "    FOR character IN Characters\n",
    "        RETURN character\n",
    "    \"\"\"\n",
    "\n",
    "query_result = aql.execute(all_characters)\n",
    "\n",
    "for doc in query_result:\n",
    "    print(doc)\n",
    "    print()"
   ]
  },
  {
   "cell_type": "markdown",
   "id": "b07bf6a6-e4b1-421b-bb62-b149098ae4bd",
   "metadata": {},
   "source": [
    "For each document in the collection, `character` is assigned a document, which is then returned as per the loop body.\n",
    "\n",
    "Each document features the 5 attributes we stored, plus 3 more added by the database system\n",
    "\n",
    "1. a unique `_key`, which identifies it within a collection\n",
    "2. an `_id` which is a computed property - a concatenation of the collection name, a forward slash `/` and the document key. It uniquely identies a document within a database\n",
    "3. `_rev`, the revision ID managed by the system. Older revisions of a document cannot be accessed.\n",
    "\n",
    "Document keys can be provided by the user upon document creation, or a unique value is assigned automatically. It can not be changed later. All 3 system attributes starting with an underscore `_` are read-only."
   ]
  },
  {
   "cell_type": "markdown",
   "id": "654eb588-56c6-4660-b2e1-89994b440b93",
   "metadata": {},
   "source": [
    "Next, let us add some more characters. We use the `LET` keyword to define a named variable with an array of objects as value, so `LET variableName = valueExpression` and the expression being a literal array definition like `[ {...}, {...}, ... ]`.\n",
    "\n",
    "`FOR variableName IN expression` is used to iterate over each element of the data array. In each loop, one element is assigned to the variable `d`. This variable is then used in the `INSERT` statement instead of a literal object definition. What is does is basically:"
   ]
  },
  {
   "cell_type": "code",
   "execution_count": 6,
   "id": "b7a79efc-087f-4b2c-91dc-3964196d155f",
   "metadata": {},
   "outputs": [
    {
     "data": {
      "text/plain": [
       "<Cursor>"
      ]
     },
     "execution_count": 6,
     "metadata": {},
     "output_type": "execute_result"
    }
   ],
   "source": [
    "insert_query = \"\"\"\n",
    "    LET data = [\n",
    "        { \"name\": \"Robert\", \"surname\": \"Baratheon\", \"alive\": false, \"traits\": [\"A\",\"H\",\"C\"] },\n",
    "        { \"name\": \"Jaime\", \"surname\": \"Lannister\", \"alive\": true, \"age\": 36, \"traits\": [\"A\",\"F\",\"B\"] },\n",
    "        { \"name\": \"Catelyn\", \"surname\": \"Stark\", \"alive\": false, \"age\": 40, \"traits\": [\"D\",\"H\",\"C\"] },\n",
    "        { \"name\": \"Cersei\", \"surname\": \"Lannister\", \"alive\": true, \"age\": 36, \"traits\": [\"H\",\"E\",\"F\"] },\n",
    "        { \"name\": \"Daenerys\", \"surname\": \"Targaryen\", \"alive\": true, \"age\": 16, \"traits\": [\"D\",\"H\",\"C\"] },\n",
    "        { \"name\": \"Jorah\", \"surname\": \"Mormont\", \"alive\": false, \"traits\": [\"A\",\"B\",\"C\",\"F\"] },\n",
    "        { \"name\": \"Petyr\", \"surname\": \"Baelish\", \"alive\": false, \"traits\": [\"E\",\"G\",\"F\"] },\n",
    "        { \"name\": \"Viserys\", \"surname\": \"Targaryen\", \"alive\": false, \"traits\": [\"O\",\"L\",\"N\"] },\n",
    "        { \"name\": \"Jon\", \"surname\": \"Snow\", \"alive\": true, \"age\": 16, \"traits\": [\"A\",\"B\",\"C\",\"F\"] },\n",
    "        { \"name\": \"Sansa\", \"surname\": \"Stark\", \"alive\": true, \"age\": 13, \"traits\": [\"D\",\"I\",\"J\"] },\n",
    "        { \"name\": \"Arya\", \"surname\": \"Stark\", \"alive\": true, \"age\": 11, \"traits\": [\"C\",\"K\",\"L\"] },\n",
    "        { \"name\": \"Robb\", \"surname\": \"Stark\", \"alive\": false, \"traits\": [\"A\",\"B\",\"C\",\"K\"] },\n",
    "        { \"name\": \"Theon\", \"surname\": \"Greyjoy\", \"alive\": true, \"age\": 16, \"traits\": [\"E\",\"R\",\"K\"] },\n",
    "        { \"name\": \"Bran\", \"surname\": \"Stark\", \"alive\": true, \"age\": 10, \"traits\": [\"L\",\"J\"] },\n",
    "        { \"name\": \"Joffrey\", \"surname\": \"Baratheon\", \"alive\": false, \"age\": 19, \"traits\": [\"I\",\"L\",\"O\"] },\n",
    "        { \"name\": \"Sandor\", \"surname\": \"Clegane\", \"alive\": true, \"traits\": [\"A\",\"P\",\"K\",\"F\"] },\n",
    "        { \"name\": \"Tyrion\", \"surname\": \"Lannister\", \"alive\": true, \"age\": 32, \"traits\": [\"F\",\"K\",\"M\",\"N\"] },\n",
    "        { \"name\": \"Khal\", \"surname\": \"Drogo\", \"alive\": false, \"traits\": [\"A\",\"C\",\"O\",\"P\"] },\n",
    "        { \"name\": \"Tywin\", \"surname\": \"Lannister\", \"alive\": false, \"traits\": [\"O\",\"M\",\"H\",\"F\"] },\n",
    "        { \"name\": \"Davos\", \"surname\": \"Seaworth\", \"alive\": true, \"age\": 49, \"traits\": [\"C\",\"K\",\"P\",\"F\"] },\n",
    "        { \"name\": \"Samwell\", \"surname\": \"Tarly\", \"alive\": true, \"age\": 17, \"traits\": [\"C\",\"L\",\"I\"] },\n",
    "        { \"name\": \"Stannis\", \"surname\": \"Baratheon\", \"alive\": false, \"traits\": [\"H\",\"O\",\"P\",\"M\"] },\n",
    "        { \"name\": \"Melisandre\", \"alive\": true, \"traits\": [\"G\",\"E\",\"H\"] },\n",
    "        { \"name\": \"Margaery\", \"surname\": \"Tyrell\", \"alive\": false, \"traits\": [\"M\",\"D\",\"B\"] },\n",
    "        { \"name\": \"Jeor\", \"surname\": \"Mormont\", \"alive\": false, \"traits\": [\"C\",\"H\",\"M\",\"P\"] },\n",
    "        { \"name\": \"Bronn\", \"alive\": true, \"traits\": [\"K\",\"E\",\"C\"] },\n",
    "        { \"name\": \"Varys\", \"alive\": true, \"traits\": [\"M\",\"F\",\"N\",\"E\"] },\n",
    "        { \"name\": \"Shae\", \"alive\": false, \"traits\": [\"M\",\"D\",\"G\"] },\n",
    "        { \"name\": \"Talisa\", \"surname\": \"Maegyr\", \"alive\": false, \"traits\": [\"D\",\"C\",\"B\"] },\n",
    "        { \"name\": \"Gendry\", \"alive\": false, \"traits\": [\"K\",\"C\",\"A\"] },\n",
    "        { \"name\": \"Ygritte\", \"alive\": false, \"traits\": [\"A\",\"P\",\"K\"] },\n",
    "        { \"name\": \"Tormund\", \"surname\": \"Giantsbane\", \"alive\": true, \"traits\": [\"C\",\"P\",\"A\",\"I\"] },\n",
    "        { \"name\": \"Gilly\", \"alive\": true, \"traits\": [\"L\",\"J\"] },\n",
    "        { \"name\": \"Brienne\", \"surname\": \"Tarth\", \"alive\": true, \"age\": 32, \"traits\": [\"P\",\"C\",\"A\",\"K\"] },\n",
    "        { \"name\": \"Ramsay\", \"surname\": \"Bolton\", \"alive\": true, \"traits\": [\"E\",\"O\",\"G\",\"A\"] },\n",
    "        { \"name\": \"Ellaria\", \"surname\": \"Sand\", \"alive\": true, \"traits\": [\"P\",\"O\",\"A\",\"E\"] },\n",
    "        { \"name\": \"Daario\", \"surname\": \"Naharis\", \"alive\": true, \"traits\": [\"K\",\"P\",\"A\"] },\n",
    "        { \"name\": \"Missandei\", \"alive\": true, \"traits\": [\"D\",\"L\",\"C\",\"M\"] },\n",
    "        { \"name\": \"Tommen\", \"surname\": \"Baratheon\", \"alive\": true, \"traits\": [\"I\",\"L\",\"B\"] },\n",
    "        { \"name\": \"Jaqen\", \"surname\": \"H'ghar\", \"alive\": true, \"traits\": [\"H\",\"F\",\"K\"] },\n",
    "        { \"name\": \"Roose\", \"surname\": \"Bolton\", \"alive\": true, \"traits\": [\"H\",\"E\",\"F\",\"A\"] },\n",
    "        { \"name\": \"The High Sparrow\", \"alive\": true, \"traits\": [\"H\",\"M\",\"F\",\"O\"] }\n",
    "    ]\n",
    "    \n",
    "    FOR d IN data\n",
    "        INSERT d INTO Characters\n",
    "    \"\"\"\n",
    "\n",
    "aql.execute(insert_query)"
   ]
  },
  {
   "cell_type": "markdown",
   "id": "72da1545-a1f3-434a-b5fb-db1e3bb19c0e",
   "metadata": {},
   "source": [
    "As before let's check the `Characters` collection, but this time only return each characters name:"
   ]
  },
  {
   "cell_type": "code",
   "execution_count": 7,
   "id": "5e824d88-a7f8-42eb-933f-23e55e7d8afc",
   "metadata": {},
   "outputs": [
    {
     "name": "stdout",
     "output_type": "stream",
     "text": [
      "Ned\n",
      "\n",
      "Robert\n",
      "\n",
      "Jaime\n",
      "\n",
      "Catelyn\n",
      "\n",
      "Cersei\n",
      "\n",
      "Daenerys\n",
      "\n",
      "Jorah\n",
      "\n",
      "Petyr\n",
      "\n",
      "Viserys\n",
      "\n",
      "Jon\n",
      "\n",
      "Sansa\n",
      "\n",
      "Arya\n",
      "\n",
      "Robb\n",
      "\n",
      "Theon\n",
      "\n",
      "Bran\n",
      "\n",
      "Joffrey\n",
      "\n",
      "Sandor\n",
      "\n",
      "Tyrion\n",
      "\n",
      "Khal\n",
      "\n",
      "Tywin\n",
      "\n",
      "Davos\n",
      "\n",
      "Samwell\n",
      "\n",
      "Stannis\n",
      "\n",
      "Melisandre\n",
      "\n",
      "Margaery\n",
      "\n",
      "Jeor\n",
      "\n",
      "Bronn\n",
      "\n",
      "Varys\n",
      "\n",
      "Shae\n",
      "\n",
      "Talisa\n",
      "\n",
      "Gendry\n",
      "\n",
      "Ygritte\n",
      "\n",
      "Tormund\n",
      "\n",
      "Gilly\n",
      "\n",
      "Brienne\n",
      "\n",
      "Ramsay\n",
      "\n",
      "Ellaria\n",
      "\n",
      "Daario\n",
      "\n",
      "Missandei\n",
      "\n",
      "Tommen\n",
      "\n",
      "Jaqen\n",
      "\n",
      "Roose\n",
      "\n",
      "The High Sparrow\n",
      "\n"
     ]
    }
   ],
   "source": [
    "all_characters_names = \"\"\"\n",
    "    FOR character IN Characters\n",
    "        RETURN character.name\n",
    "    \"\"\"\n",
    "\n",
    "query_result = aql.execute(all_characters_names)\n",
    "\n",
    "for doc in query_result:\n",
    "    print(doc)\n",
    "    print()"
   ]
  },
  {
   "cell_type": "markdown",
   "id": "b2262b7c-24ac-4ea0-bdbd-9397010dda6b",
   "metadata": {},
   "source": [
    "Updating Documents\n",
    "------------------\n",
    "\n",
    "Let's say we need to change the alive attribute of Ned. For this we first identify the `_key` attribute of Ned"
   ]
  },
  {
   "cell_type": "code",
   "execution_count": 8,
   "id": "dceb820a-9337-4f6b-b970-69670a0bdae9",
   "metadata": {},
   "outputs": [
    {
     "name": "stdout",
     "output_type": "stream",
     "text": [
      "_key: 266270031705\n",
      "\n"
     ]
    }
   ],
   "source": [
    "find_ned_query = \"\"\"\n",
    "    FOR character IN Characters\n",
    "        FILTER character.name == \"Ned\"\n",
    "        RETURN character._key\n",
    "    \"\"\"\n",
    "\n",
    "neds_document_key = None\n",
    "\n",
    "query_result = aql.execute(find_ned_query)\n",
    "\n",
    "for doc in  query_result:\n",
    "    print(\"_key: \" + str(doc))\n",
    "    neds_document_key = doc\n",
    "    print()"
   ]
  },
  {
   "cell_type": "markdown",
   "id": "32f98f4f-e50c-4a39-8c66-1adcd89c598d",
   "metadata": {},
   "source": [
    "Using `key` we can update an existing document:"
   ]
  },
  {
   "cell_type": "code",
   "execution_count": 9,
   "id": "b2f89bed-d920-4f5e-ae71-feec461b8ae2",
   "metadata": {},
   "outputs": [
    {
     "name": "stdout",
     "output_type": "stream",
     "text": [
      "{'_key': '266270031705', '_id': 'Characters/266270031705', '_rev': '_i4TYmUe--_', 'name': 'Ned', 'surname': 'Stark', 'alive': False, 'age': 41, 'traits': ['A', 'H', 'C', 'N', 'P']}\n",
      "\n"
     ]
    }
   ],
   "source": [
    "kill_ned = \"\"\"\n",
    "    UPDATE @key \n",
    "    WITH { alive: false} \n",
    "    IN Characters\n",
    "\"\"\"\n",
    "bindVars = {'key': neds_document_key}\n",
    "aql.execute(kill_ned, batch_size=1, bind_vars=bindVars)\n",
    "\n",
    "find_ned_query = \"\"\"\n",
    "    FOR character IN Characters\n",
    "        FILTER character.name == \"Ned\"\n",
    "        RETURN character\n",
    "\"\"\"\n",
    "query_result = aql.execute(find_ned_query)\n",
    "\n",
    "for doc in query_result:\n",
    "    print(doc)\n",
    "    print()"
   ]
  },
  {
   "cell_type": "markdown",
   "id": "4292df5e-4ebd-46c6-bc2d-d488bfdb224e",
   "metadata": {},
   "source": [
    "We could have also replaced the entire document content, using `REPLACE` instead of `UPDATE`:"
   ]
  },
  {
   "cell_type": "code",
   "execution_count": 10,
   "id": "348a40b4-4c05-420c-bbdc-925a985de900",
   "metadata": {},
   "outputs": [
    {
     "name": "stdout",
     "output_type": "stream",
     "text": [
      "{'_key': '266270031705', '_id': 'Characters/266270031705', '_rev': '_i4TYnKi--_', 'age': 41, 'alive': False, 'name': 'Ned', 'surname': 'Stark', 'traits': ['A', 'H', 'C', 'N', 'P']}\n",
      "\n"
     ]
    }
   ],
   "source": [
    "kill_ned = \"\"\"\n",
    "    REPLACE @key WITH {\n",
    "        name: \"Ned\",\n",
    "        surname: \"Stark\",\n",
    "        alive: false,\n",
    "        age: 41,\n",
    "        traits: [\"A\",\"H\",\"C\",\"N\",\"P\"]\n",
    "    } IN Characters\n",
    "\"\"\"\n",
    "bindVars = {'key': neds_document_key}\n",
    "aql.execute(kill_ned, batch_size=1, bind_vars=bindVars)\n",
    "\n",
    "find_ned_query = \"\"\"\n",
    "FOR character IN Characters\n",
    "    FILTER character.name == \"Ned\"\n",
    "    RETURN character\n",
    "\"\"\"\n",
    "query_result = aql.execute(find_ned_query)\n",
    "\n",
    "for doc in query_result:\n",
    "    print(doc)\n",
    "    print()"
   ]
  },
  {
   "cell_type": "markdown",
   "id": "e0caaf2a-50fc-4226-832a-61f29a6f8789",
   "metadata": {},
   "source": [
    "We could again use the `FOR` loop construct from before to update all characters:"
   ]
  },
  {
   "cell_type": "code",
   "execution_count": 11,
   "id": "9644fab1-a6fc-4ec8-8eed-7053b45b2fb6",
   "metadata": {},
   "outputs": [
    {
     "name": "stdout",
     "output_type": "stream",
     "text": [
      "{'Name': 'Ned', 'Season': 1}\n",
      "\n",
      "{'Name': 'Robert', 'Season': 1}\n",
      "\n",
      "{'Name': 'Jaime', 'Season': 1}\n",
      "\n",
      "{'Name': 'Catelyn', 'Season': 1}\n",
      "\n",
      "{'Name': 'Cersei', 'Season': 1}\n",
      "\n",
      "{'Name': 'Daenerys', 'Season': 1}\n",
      "\n",
      "{'Name': 'Jorah', 'Season': 1}\n",
      "\n",
      "{'Name': 'Petyr', 'Season': 1}\n",
      "\n",
      "{'Name': 'Viserys', 'Season': 1}\n",
      "\n",
      "{'Name': 'Jon', 'Season': 1}\n",
      "\n",
      "{'Name': 'Sansa', 'Season': 1}\n",
      "\n",
      "{'Name': 'Arya', 'Season': 1}\n",
      "\n",
      "{'Name': 'Robb', 'Season': 1}\n",
      "\n",
      "{'Name': 'Theon', 'Season': 1}\n",
      "\n",
      "{'Name': 'Bran', 'Season': 1}\n",
      "\n",
      "{'Name': 'Joffrey', 'Season': 1}\n",
      "\n",
      "{'Name': 'Sandor', 'Season': 1}\n",
      "\n",
      "{'Name': 'Tyrion', 'Season': 1}\n",
      "\n",
      "{'Name': 'Khal', 'Season': 1}\n",
      "\n",
      "{'Name': 'Tywin', 'Season': 1}\n",
      "\n",
      "{'Name': 'Davos', 'Season': 1}\n",
      "\n",
      "{'Name': 'Samwell', 'Season': 1}\n",
      "\n",
      "{'Name': 'Stannis', 'Season': 1}\n",
      "\n",
      "{'Name': 'Melisandre', 'Season': 1}\n",
      "\n",
      "{'Name': 'Margaery', 'Season': 1}\n",
      "\n",
      "{'Name': 'Jeor', 'Season': 1}\n",
      "\n",
      "{'Name': 'Bronn', 'Season': 1}\n",
      "\n",
      "{'Name': 'Varys', 'Season': 1}\n",
      "\n",
      "{'Name': 'Shae', 'Season': 1}\n",
      "\n",
      "{'Name': 'Talisa', 'Season': 1}\n",
      "\n",
      "{'Name': 'Gendry', 'Season': 1}\n",
      "\n",
      "{'Name': 'Ygritte', 'Season': 1}\n",
      "\n",
      "{'Name': 'Tormund', 'Season': 1}\n",
      "\n",
      "{'Name': 'Gilly', 'Season': 1}\n",
      "\n",
      "{'Name': 'Brienne', 'Season': 1}\n",
      "\n",
      "{'Name': 'Ramsay', 'Season': 1}\n",
      "\n",
      "{'Name': 'Ellaria', 'Season': 1}\n",
      "\n",
      "{'Name': 'Daario', 'Season': 1}\n",
      "\n",
      "{'Name': 'Missandei', 'Season': 1}\n",
      "\n",
      "{'Name': 'Tommen', 'Season': 1}\n",
      "\n",
      "{'Name': 'Jaqen', 'Season': 1}\n",
      "\n",
      "{'Name': 'Roose', 'Season': 1}\n",
      "\n",
      "{'Name': 'The High Sparrow', 'Season': 1}\n",
      "\n"
     ]
    }
   ],
   "source": [
    "season_query = \"\"\"\n",
    "    FOR character IN Characters\n",
    "    UPDATE character WITH { season: 1 } IN Characters\n",
    "\"\"\"\n",
    "aql.execute(season_query)\n",
    "\n",
    "all_characters_names_season = \"\"\"\n",
    "    FOR character IN Characters\n",
    "    RETURN {\"Name\" : character.name, \"Season\" : character.season}\n",
    "\"\"\"\n",
    "query_result = aql.execute(all_characters_names_season)\n",
    "\n",
    "for doc in query_result:\n",
    "    print(doc)\n",
    "    print()"
   ]
  },
  {
   "cell_type": "markdown",
   "id": "0c8de68f-8d29-4cef-b507-782f3450e53c",
   "metadata": {},
   "source": [
    "Note, that here we customized the `RETURN` to return a json document consisting of name and season."
   ]
  },
  {
   "cell_type": "markdown",
   "id": "0740c019-578b-42fd-b506-a6a6b625d233",
   "metadata": {},
   "source": [
    "Deleting Documents\n",
    "------------------\n",
    "\n",
    "To fully remove documents from a collection, there is the `REMOVE` operation. It works similar to the other modification operations, yet without a `WITH` clause:"
   ]
  },
  {
   "cell_type": "code",
   "execution_count": 12,
   "id": "e0b8de38-e8e9-474a-9ba3-8930df55fccb",
   "metadata": {},
   "outputs": [
    {
     "name": "stdout",
     "output_type": "stream",
     "text": [
      "Ned not found.\n"
     ]
    }
   ],
   "source": [
    "remove_ned = \"\"\"\n",
    "    REMOVE @key IN Characters\n",
    "\"\"\"\n",
    "bindVars = {'key': neds_document_key}\n",
    "\n",
    "try:\n",
    "    aql.execute(remove_ned, bind_vars=bindVars)\n",
    "except:\n",
    "    print(\"Ned already removed.\")\n",
    "\n",
    "find_ned_query = \"\"\"\n",
    "    FOR character IN Characters\n",
    "        FILTER character.name == \"Ned\"\n",
    "        RETURN character\n",
    "\"\"\"\n",
    "query_result = aql.execute(find_ned_query, count=True)\n",
    "\n",
    "if len(query_result) == 0 :\n",
    "    print(\"Ned not found.\")"
   ]
  },
  {
   "cell_type": "markdown",
   "id": "26941e37-8aff-4323-8ca7-b12facee8cd2",
   "metadata": {},
   "source": [
    "As we might have already guessed we can again use a `FOR` loop if we want to perform this operation for the entire collection:"
   ]
  },
  {
   "cell_type": "code",
   "execution_count": 13,
   "id": "c99540e5-10ca-421e-a3df-3c233c67f1b1",
   "metadata": {},
   "outputs": [
    {
     "name": "stdout",
     "output_type": "stream",
     "text": [
      "No characters left.\n"
     ]
    }
   ],
   "source": [
    "remove_all = \"\"\"\n",
    "    FOR character IN Characters\n",
    "    REMOVE character IN Characters\n",
    "\"\"\"\n",
    "aql.execute(remove_all)\n",
    "    \n",
    "all_characters_names = \"\"\"\n",
    "    FOR character IN Characters\n",
    "    RETURN character\n",
    "\"\"\"\n",
    "query_result = aql.execute(all_characters_names, count=True)\n",
    "\n",
    "if len(query_result) == 0 :\n",
    "    print(\"No characters left.\")"
   ]
  }
 ],
 "metadata": {
  "kernelspec": {
   "display_name": "Python 3 (ipykernel)",
   "language": "python",
   "name": "python3"
  },
  "language_info": {
   "codemirror_mode": {
    "name": "ipython",
    "version": 3
   },
   "file_extension": ".py",
   "mimetype": "text/x-python",
   "name": "python",
   "nbconvert_exporter": "python",
   "pygments_lexer": "ipython3",
   "version": "3.10.7"
  }
 },
 "nbformat": 4,
 "nbformat_minor": 5
}
