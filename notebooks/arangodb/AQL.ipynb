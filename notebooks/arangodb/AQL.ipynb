{
 "cells": [
  {
   "cell_type": "markdown",
   "id": "aed2fb5a-6baa-4d4e-8783-dac94c61cfcf",
   "metadata": {},
   "source": [
    "![Arango Logo](https://github.com/QubitPi/QubitPi/blob/master/img/arango-logo-with-text.png?raw=true \"Error loading QubitPi/img/arango-logo-with-text.png\")"
   ]
  },
  {
   "cell_type": "markdown",
   "id": "687ce9a7-2f5c-4fcd-b718-212b6a491f99",
   "metadata": {},
   "source": [
    "Arango AQL Tutorial\n",
    "===================\n",
    "\n",
    "This is a tutorial on ArangoDB’s query language AQL, built around a small dataset of characters from the novel and fantasy drama television series Game of Thrones (as of season 1). It includes character traits in two languages, some family relations, and last but not least a small set of filming locations, which makes for an interesting mix of data to work with."
   ]
  },
  {
   "cell_type": "markdown",
   "id": "652215c7-85f1-49de-a1b6-c5e1106a3175",
   "metadata": {},
   "source": [
    "Setup\n",
    "-----"
   ]
  },
  {
   "cell_type": "code",
   "execution_count": 1,
   "id": "3d478254-aebe-443a-8cb0-d41630227aa4",
   "metadata": {},
   "outputs": [],
   "source": [
    "import json\n",
    "import requests\n",
    "import sys\n",
    "import oasis # this is a local module \"notebooks/arangodb/oasis.py\"\n",
    "import time\n",
    "\n",
    "from pyArango.connection import *\n",
    "from arango import ArangoClient"
   ]
  },
  {
   "cell_type": "markdown",
   "id": "e1172472-687d-4d78-9841-bbb58812c493",
   "metadata": {},
   "source": [
    "Let's Create the temporary database:\n",
    "\n",
    "*Note: this notebook uses a temporary instance which will be autodeleted!*"
   ]
  },
  {
   "cell_type": "code",
   "execution_count": 2,
   "id": "7a18b278-9c86-4882-9566-597acc063bc4",
   "metadata": {},
   "outputs": [
    {
     "name": "stdout",
     "output_type": "stream",
     "text": [
      "Reusing cached credentials.\n",
      "https://tutorials.arangodb.cloud:8529\n",
      "Username: TUT1cihi64f6xwx1p0jfghlo\n",
      "Password: TUT57a9pqx8wd466m36fm69hu\n",
      "Database: TUTq8tm1n269ba2h54k0fr26\n"
     ]
    }
   ],
   "source": [
    "login = oasis.getTempCredentials(\n",
    "    tutorialName=\"AQLCrudTutorial\",\n",
    "    credentialProvider='https://tutorials.arangodb.cloud:8529/_db/_system/tutorialDB/tutorialDB'\n",
    ")\n",
    "\n",
    "database = oasis.connect_python_arango(login)\n",
    "aql = database.aql\n",
    "\n",
    "print(\"https://{}:{}\".format(login[\"hostname\"], login[\"port\"]))\n",
    "print(\"Username: \" + login[\"username\"])\n",
    "print(\"Password: \" + login[\"password\"])\n",
    "print(\"Database: \" + login[\"dbName\"])"
   ]
  },
  {
   "cell_type": "markdown",
   "id": "a13cd968-942b-4242-9663-547631f60319",
   "metadata": {},
   "source": [
    "We should be able to see an URL, a Username, a Password, and a Database printed above. Feel free to click the URL which will take us to the ArangoDB UI. On the login page, use the Username and Password above as thelogin credential, then on the next page choose the printed Database as the selected database. The UI should look like the screenshot below:\n",
    "\n",
    "![Arango UI](https://github.com/QubitPi/QubitPi/blob/master/img/arango-ui.png?raw=true \"Error loading QubitPi/img/arango-ui.png\")"
   ]
  },
  {
   "cell_type": "markdown",
   "id": "56b92ec8-9479-476d-a1fc-f283e861e73d",
   "metadata": {},
   "source": [
    "Creating Collections\n",
    "--------------------\n",
    "\n",
    "Before we can insert documents (data) with AQL into database, we need a place to put them in - a __Collection__. Collections can be managed via the web interface, arangosh or a driver. It is not possible to do so with AQL however."
   ]
  },
  {
   "cell_type": "code",
   "execution_count": 3,
   "id": "4eaf7e8a-56b5-4a9b-99f5-b5b782bcf5f3",
   "metadata": {},
   "outputs": [
    {
     "name": "stdout",
     "output_type": "stream",
     "text": [
      "We have 'Characters' collection now.\n"
     ]
    }
   ],
   "source": [
    "if not database.has_collection(\"Characters\"):\n",
    "  database.create_collection(\"Characters\")\n",
    "\n",
    "print(\"We have 'Characters' collection now.\")"
   ]
  },
  {
   "cell_type": "markdown",
   "id": "89116091-e5b6-4f24-8d4d-54ff4a409004",
   "metadata": {},
   "source": [
    "Creating and Reading Documents\n",
    "------------------------------\n",
    "\n",
    "The syntax for creating a new [document](https://arango.qubitpi.org/stable/concepts/data-structure/#documents) is `INSERT document INTO collectionName`. The document is an object like we may know it from JavaScript or JSON, which is comprised of attribute key and value pairs. The quotes around the attribute keys are optional in AQL. Keys are always character sequences (strings), whereas attribute values can have different types:\n",
    "\n",
    "- null\n",
    "- boolean (true, false)\n",
    "- number (integer and floating point)\n",
    "- string\n",
    "- array\n",
    "- object\n",
    "\n",
    "Name and surname of the character document we will be inserting are both string values. The alive state uses a boolean. Age is a numeric value. The traits are an array of strings. The entire document is an object."
   ]
  },
  {
   "cell_type": "code",
   "execution_count": 4,
   "id": "6c16a88e-10e6-48bc-bf03-c567147b3246",
   "metadata": {},
   "outputs": [
    {
     "data": {
      "text/plain": [
       "<Cursor>"
      ]
     },
     "execution_count": 4,
     "metadata": {},
     "output_type": "execute_result"
    }
   ],
   "source": [
    "insert_query = \"\"\"\n",
    "    INSERT {\n",
    "        \"name\": \"Ned\",\n",
    "        \"surname\": \"Stark\",\n",
    "        \"alive\": true,\n",
    "        \"age\": 41,\n",
    "        \"traits\": [\"A\",\"H\",\"C\",\"N\",\"P\"]\n",
    "    } INTO Characters\n",
    "    \"\"\"\n",
    "\n",
    "aql.execute(insert_query)"
   ]
  },
  {
   "cell_type": "markdown",
   "id": "3c984999-cab1-4d51-8bd4-d997c7859b41",
   "metadata": {},
   "source": [
    "We can also execute all the queries on the ArangoDB Web UI:\n",
    "\n",
    "![](./img/aql-on-ui.png)"
   ]
  },
  {
   "cell_type": "markdown",
   "id": "a548a861-df40-483f-b428-061eab029cfd",
   "metadata": {},
   "source": [
    "Let's check whether the insert was sucessfull by querying the `Characters` collections. The syntax of the loop is `FOR variableName IN collectionName`."
   ]
  },
  {
   "cell_type": "code",
   "execution_count": 5,
   "id": "351f7510-cbb5-43b0-8bbb-1970213a2b32",
   "metadata": {},
   "outputs": [
    {
     "name": "stdout",
     "output_type": "stream",
     "text": [
      "{'_key': '266270034987', '_id': 'Characters/266270034987', '_rev': '_i4UDWxm---', 'name': 'Ned', 'surname': 'Stark', 'alive': True, 'age': 41, 'traits': ['A', 'H', 'C', 'N', 'P']}\n",
      "\n"
     ]
    }
   ],
   "source": [
    "all_characters = \"\"\"\n",
    "    FOR character IN Characters\n",
    "        RETURN character\n",
    "    \"\"\"\n",
    "\n",
    "query_result = aql.execute(all_characters)\n",
    "\n",
    "for doc in query_result:\n",
    "    print(doc)\n",
    "    print()"
   ]
  },
  {
   "cell_type": "markdown",
   "id": "b07bf6a6-e4b1-421b-bb62-b149098ae4bd",
   "metadata": {},
   "source": [
    "For each document in the collection, `character` is assigned a document, which is then returned as per the loop body.\n",
    "\n",
    "Each document features the 5 attributes we stored, plus 3 more added by the database system\n",
    "\n",
    "1. a unique `_key`, which identifies it within a collection\n",
    "2. an `_id` which is a computed property - a concatenation of the collection name, a forward slash `/` and the document key. It uniquely identies a document within a database\n",
    "3. `_rev`, the revision ID managed by the system. Older revisions of a document cannot be accessed.\n",
    "\n",
    "Document keys can be provided by the user upon document creation, or a unique value is assigned automatically. It can not be changed later. All 3 system attributes starting with an underscore `_` are read-only."
   ]
  },
  {
   "cell_type": "markdown",
   "id": "654eb588-56c6-4660-b2e1-89994b440b93",
   "metadata": {},
   "source": [
    "Next, let us add some more characters. We use the `LET` keyword to define a named variable with an array of objects as value, so `LET variableName = valueExpression` and the expression being a literal array definition like `[ {...}, {...}, ... ]`.\n",
    "\n",
    "`FOR variableName IN expression` is used to iterate over each element of the data array. In each loop, one element is assigned to the variable `d`. This variable is then used in the `INSERT` statement instead of a literal object definition. What is does is basically:"
   ]
  },
  {
   "cell_type": "code",
   "execution_count": 6,
   "id": "b7a79efc-087f-4b2c-91dc-3964196d155f",
   "metadata": {},
   "outputs": [
    {
     "data": {
      "text/plain": [
       "<Cursor>"
      ]
     },
     "execution_count": 6,
     "metadata": {},
     "output_type": "execute_result"
    }
   ],
   "source": [
    "insert_query = \"\"\"\n",
    "    LET data = [\n",
    "        { \"name\": \"Robert\", \"surname\": \"Baratheon\", \"alive\": false, \"traits\": [\"A\",\"H\",\"C\"] },\n",
    "        { \"name\": \"Jaime\", \"surname\": \"Lannister\", \"alive\": true, \"age\": 36, \"traits\": [\"A\",\"F\",\"B\"] },\n",
    "        { \"name\": \"Catelyn\", \"surname\": \"Stark\", \"alive\": false, \"age\": 40, \"traits\": [\"D\",\"H\",\"C\"] },\n",
    "        { \"name\": \"Cersei\", \"surname\": \"Lannister\", \"alive\": true, \"age\": 36, \"traits\": [\"H\",\"E\",\"F\"] },\n",
    "        { \"name\": \"Daenerys\", \"surname\": \"Targaryen\", \"alive\": true, \"age\": 16, \"traits\": [\"D\",\"H\",\"C\"] },\n",
    "        { \"name\": \"Jorah\", \"surname\": \"Mormont\", \"alive\": false, \"traits\": [\"A\",\"B\",\"C\",\"F\"] },\n",
    "        { \"name\": \"Petyr\", \"surname\": \"Baelish\", \"alive\": false, \"traits\": [\"E\",\"G\",\"F\"] },\n",
    "        { \"name\": \"Viserys\", \"surname\": \"Targaryen\", \"alive\": false, \"traits\": [\"O\",\"L\",\"N\"] },\n",
    "        { \"name\": \"Jon\", \"surname\": \"Snow\", \"alive\": true, \"age\": 16, \"traits\": [\"A\",\"B\",\"C\",\"F\"] },\n",
    "        { \"name\": \"Sansa\", \"surname\": \"Stark\", \"alive\": true, \"age\": 13, \"traits\": [\"D\",\"I\",\"J\"] },\n",
    "        { \"name\": \"Arya\", \"surname\": \"Stark\", \"alive\": true, \"age\": 11, \"traits\": [\"C\",\"K\",\"L\"] },\n",
    "        { \"name\": \"Robb\", \"surname\": \"Stark\", \"alive\": false, \"traits\": [\"A\",\"B\",\"C\",\"K\"] },\n",
    "        { \"name\": \"Theon\", \"surname\": \"Greyjoy\", \"alive\": true, \"age\": 16, \"traits\": [\"E\",\"R\",\"K\"] },\n",
    "        { \"name\": \"Bran\", \"surname\": \"Stark\", \"alive\": true, \"age\": 10, \"traits\": [\"L\",\"J\"] },\n",
    "        { \"name\": \"Joffrey\", \"surname\": \"Baratheon\", \"alive\": false, \"age\": 19, \"traits\": [\"I\",\"L\",\"O\"] },\n",
    "        { \"name\": \"Sandor\", \"surname\": \"Clegane\", \"alive\": true, \"traits\": [\"A\",\"P\",\"K\",\"F\"] },\n",
    "        { \"name\": \"Tyrion\", \"surname\": \"Lannister\", \"alive\": true, \"age\": 32, \"traits\": [\"F\",\"K\",\"M\",\"N\"] },\n",
    "        { \"name\": \"Khal\", \"surname\": \"Drogo\", \"alive\": false, \"traits\": [\"A\",\"C\",\"O\",\"P\"] },\n",
    "        { \"name\": \"Tywin\", \"surname\": \"Lannister\", \"alive\": false, \"traits\": [\"O\",\"M\",\"H\",\"F\"] },\n",
    "        { \"name\": \"Davos\", \"surname\": \"Seaworth\", \"alive\": true, \"age\": 49, \"traits\": [\"C\",\"K\",\"P\",\"F\"] },\n",
    "        { \"name\": \"Samwell\", \"surname\": \"Tarly\", \"alive\": true, \"age\": 17, \"traits\": [\"C\",\"L\",\"I\"] },\n",
    "        { \"name\": \"Stannis\", \"surname\": \"Baratheon\", \"alive\": false, \"traits\": [\"H\",\"O\",\"P\",\"M\"] },\n",
    "        { \"name\": \"Melisandre\", \"alive\": true, \"traits\": [\"G\",\"E\",\"H\"] },\n",
    "        { \"name\": \"Margaery\", \"surname\": \"Tyrell\", \"alive\": false, \"traits\": [\"M\",\"D\",\"B\"] },\n",
    "        { \"name\": \"Jeor\", \"surname\": \"Mormont\", \"alive\": false, \"traits\": [\"C\",\"H\",\"M\",\"P\"] },\n",
    "        { \"name\": \"Bronn\", \"alive\": true, \"traits\": [\"K\",\"E\",\"C\"] },\n",
    "        { \"name\": \"Varys\", \"alive\": true, \"traits\": [\"M\",\"F\",\"N\",\"E\"] },\n",
    "        { \"name\": \"Shae\", \"alive\": false, \"traits\": [\"M\",\"D\",\"G\"] },\n",
    "        { \"name\": \"Talisa\", \"surname\": \"Maegyr\", \"alive\": false, \"traits\": [\"D\",\"C\",\"B\"] },\n",
    "        { \"name\": \"Gendry\", \"alive\": false, \"traits\": [\"K\",\"C\",\"A\"] },\n",
    "        { \"name\": \"Ygritte\", \"alive\": false, \"traits\": [\"A\",\"P\",\"K\"] },\n",
    "        { \"name\": \"Tormund\", \"surname\": \"Giantsbane\", \"alive\": true, \"traits\": [\"C\",\"P\",\"A\",\"I\"] },\n",
    "        { \"name\": \"Gilly\", \"alive\": true, \"traits\": [\"L\",\"J\"] },\n",
    "        { \"name\": \"Brienne\", \"surname\": \"Tarth\", \"alive\": true, \"age\": 32, \"traits\": [\"P\",\"C\",\"A\",\"K\"] },\n",
    "        { \"name\": \"Ramsay\", \"surname\": \"Bolton\", \"alive\": true, \"traits\": [\"E\",\"O\",\"G\",\"A\"] },\n",
    "        { \"name\": \"Ellaria\", \"surname\": \"Sand\", \"alive\": true, \"traits\": [\"P\",\"O\",\"A\",\"E\"] },\n",
    "        { \"name\": \"Daario\", \"surname\": \"Naharis\", \"alive\": true, \"traits\": [\"K\",\"P\",\"A\"] },\n",
    "        { \"name\": \"Missandei\", \"alive\": true, \"traits\": [\"D\",\"L\",\"C\",\"M\"] },\n",
    "        { \"name\": \"Tommen\", \"surname\": \"Baratheon\", \"alive\": true, \"traits\": [\"I\",\"L\",\"B\"] },\n",
    "        { \"name\": \"Jaqen\", \"surname\": \"H'ghar\", \"alive\": true, \"traits\": [\"H\",\"F\",\"K\"] },\n",
    "        { \"name\": \"Roose\", \"surname\": \"Bolton\", \"alive\": true, \"traits\": [\"H\",\"E\",\"F\",\"A\"] },\n",
    "        { \"name\": \"The High Sparrow\", \"alive\": true, \"traits\": [\"H\",\"M\",\"F\",\"O\"] }\n",
    "    ]\n",
    "    \n",
    "    FOR d IN data\n",
    "        INSERT d INTO Characters\n",
    "    \"\"\"\n",
    "\n",
    "aql.execute(insert_query)"
   ]
  },
  {
   "cell_type": "markdown",
   "id": "72da1545-a1f3-434a-b5fb-db1e3bb19c0e",
   "metadata": {},
   "source": [
    "As before let's check the `Characters` collection, but this time only return each characters name:"
   ]
  },
  {
   "cell_type": "code",
   "execution_count": 7,
   "id": "5e824d88-a7f8-42eb-933f-23e55e7d8afc",
   "metadata": {},
   "outputs": [
    {
     "name": "stdout",
     "output_type": "stream",
     "text": [
      "Ned\n",
      "\n",
      "Robert\n",
      "\n",
      "Jaime\n",
      "\n",
      "Catelyn\n",
      "\n",
      "Cersei\n",
      "\n",
      "Daenerys\n",
      "\n",
      "Jorah\n",
      "\n",
      "Petyr\n",
      "\n",
      "Viserys\n",
      "\n",
      "Jon\n",
      "\n",
      "Sansa\n",
      "\n",
      "Arya\n",
      "\n",
      "Robb\n",
      "\n",
      "Theon\n",
      "\n",
      "Bran\n",
      "\n",
      "Joffrey\n",
      "\n",
      "Sandor\n",
      "\n",
      "Tyrion\n",
      "\n",
      "Khal\n",
      "\n",
      "Tywin\n",
      "\n",
      "Davos\n",
      "\n",
      "Samwell\n",
      "\n",
      "Stannis\n",
      "\n",
      "Melisandre\n",
      "\n",
      "Margaery\n",
      "\n",
      "Jeor\n",
      "\n",
      "Bronn\n",
      "\n",
      "Varys\n",
      "\n",
      "Shae\n",
      "\n",
      "Talisa\n",
      "\n",
      "Gendry\n",
      "\n",
      "Ygritte\n",
      "\n",
      "Tormund\n",
      "\n",
      "Gilly\n",
      "\n",
      "Brienne\n",
      "\n",
      "Ramsay\n",
      "\n",
      "Ellaria\n",
      "\n",
      "Daario\n",
      "\n",
      "Missandei\n",
      "\n",
      "Tommen\n",
      "\n",
      "Jaqen\n",
      "\n",
      "Roose\n",
      "\n",
      "The High Sparrow\n",
      "\n"
     ]
    }
   ],
   "source": [
    "all_characters_names = \"\"\"\n",
    "    FOR character IN Characters\n",
    "        RETURN character.name\n",
    "    \"\"\"\n",
    "\n",
    "query_result = aql.execute(all_characters_names)\n",
    "\n",
    "for doc in query_result:\n",
    "    print(doc)\n",
    "    print()"
   ]
  },
  {
   "cell_type": "markdown",
   "id": "b2262b7c-24ac-4ea0-bdbd-9397010dda6b",
   "metadata": {},
   "source": [
    "Updating Documents\n",
    "------------------\n",
    "\n",
    "Let's say we need to change the alive attribute of Ned. For this we first identify the `_key` attribute of Ned"
   ]
  },
  {
   "cell_type": "code",
   "execution_count": 8,
   "id": "dceb820a-9337-4f6b-b970-69670a0bdae9",
   "metadata": {},
   "outputs": [
    {
     "name": "stdout",
     "output_type": "stream",
     "text": [
      "_key: 266270034987\n",
      "\n"
     ]
    }
   ],
   "source": [
    "find_ned_query = \"\"\"\n",
    "    FOR character IN Characters\n",
    "        FILTER character.name == \"Ned\"\n",
    "        RETURN character._key\n",
    "    \"\"\"\n",
    "\n",
    "neds_document_key = None\n",
    "\n",
    "query_result = aql.execute(find_ned_query)\n",
    "\n",
    "for doc in  query_result:\n",
    "    print(\"_key: \" + str(doc))\n",
    "    neds_document_key = doc\n",
    "    print()"
   ]
  },
  {
   "cell_type": "markdown",
   "id": "32f98f4f-e50c-4a39-8c66-1adcd89c598d",
   "metadata": {},
   "source": [
    "Using `key` we can update an existing document:"
   ]
  },
  {
   "cell_type": "code",
   "execution_count": 9,
   "id": "b2f89bed-d920-4f5e-ae71-feec461b8ae2",
   "metadata": {},
   "outputs": [
    {
     "name": "stdout",
     "output_type": "stream",
     "text": [
      "{'_key': '266270034987', '_id': 'Characters/266270034987', '_rev': '_i4UDZYC---', 'name': 'Ned', 'surname': 'Stark', 'alive': False, 'age': 41, 'traits': ['A', 'H', 'C', 'N', 'P']}\n",
      "\n"
     ]
    }
   ],
   "source": [
    "kill_ned = \"\"\"\n",
    "    UPDATE @key \n",
    "    WITH { alive: false} \n",
    "    IN Characters\n",
    "\"\"\"\n",
    "bindVars = {'key': neds_document_key}\n",
    "aql.execute(kill_ned, batch_size=1, bind_vars=bindVars)\n",
    "\n",
    "find_ned_query = \"\"\"\n",
    "    FOR character IN Characters\n",
    "        FILTER character.name == \"Ned\"\n",
    "        RETURN character\n",
    "\"\"\"\n",
    "query_result = aql.execute(find_ned_query)\n",
    "\n",
    "for doc in query_result:\n",
    "    print(doc)\n",
    "    print()"
   ]
  },
  {
   "cell_type": "markdown",
   "id": "4292df5e-4ebd-46c6-bc2d-d488bfdb224e",
   "metadata": {},
   "source": [
    "We could have also replaced the entire document content, using `REPLACE` instead of `UPDATE`:"
   ]
  },
  {
   "cell_type": "code",
   "execution_count": 10,
   "id": "348a40b4-4c05-420c-bbdc-925a985de900",
   "metadata": {},
   "outputs": [
    {
     "name": "stdout",
     "output_type": "stream",
     "text": [
      "{'_key': '266270034987', '_id': 'Characters/266270034987', '_rev': '_i4UDaUa--_', 'age': 41, 'alive': False, 'name': 'Ned', 'surname': 'Stark', 'traits': ['A', 'H', 'C', 'N', 'P']}\n",
      "\n"
     ]
    }
   ],
   "source": [
    "kill_ned = \"\"\"\n",
    "    REPLACE @key WITH {\n",
    "        name: \"Ned\",\n",
    "        surname: \"Stark\",\n",
    "        alive: false,\n",
    "        age: 41,\n",
    "        traits: [\"A\",\"H\",\"C\",\"N\",\"P\"]\n",
    "    } IN Characters\n",
    "\"\"\"\n",
    "bindVars = {'key': neds_document_key}\n",
    "aql.execute(kill_ned, batch_size=1, bind_vars=bindVars)\n",
    "\n",
    "find_ned_query = \"\"\"\n",
    "FOR character IN Characters\n",
    "    FILTER character.name == \"Ned\"\n",
    "    RETURN character\n",
    "\"\"\"\n",
    "query_result = aql.execute(find_ned_query)\n",
    "\n",
    "for doc in query_result:\n",
    "    print(doc)\n",
    "    print()"
   ]
  },
  {
   "cell_type": "markdown",
   "id": "e0caaf2a-50fc-4226-832a-61f29a6f8789",
   "metadata": {},
   "source": [
    "We could again use the `FOR` loop construct from before to update all characters:"
   ]
  },
  {
   "cell_type": "code",
   "execution_count": 11,
   "id": "9644fab1-a6fc-4ec8-8eed-7053b45b2fb6",
   "metadata": {},
   "outputs": [
    {
     "name": "stdout",
     "output_type": "stream",
     "text": [
      "{'Name': 'Ned', 'Season': 1}\n",
      "\n",
      "{'Name': 'Robert', 'Season': 1}\n",
      "\n",
      "{'Name': 'Jaime', 'Season': 1}\n",
      "\n",
      "{'Name': 'Catelyn', 'Season': 1}\n",
      "\n",
      "{'Name': 'Cersei', 'Season': 1}\n",
      "\n",
      "{'Name': 'Daenerys', 'Season': 1}\n",
      "\n",
      "{'Name': 'Jorah', 'Season': 1}\n",
      "\n",
      "{'Name': 'Petyr', 'Season': 1}\n",
      "\n",
      "{'Name': 'Viserys', 'Season': 1}\n",
      "\n",
      "{'Name': 'Jon', 'Season': 1}\n",
      "\n",
      "{'Name': 'Sansa', 'Season': 1}\n",
      "\n",
      "{'Name': 'Arya', 'Season': 1}\n",
      "\n",
      "{'Name': 'Robb', 'Season': 1}\n",
      "\n",
      "{'Name': 'Theon', 'Season': 1}\n",
      "\n",
      "{'Name': 'Bran', 'Season': 1}\n",
      "\n",
      "{'Name': 'Joffrey', 'Season': 1}\n",
      "\n",
      "{'Name': 'Sandor', 'Season': 1}\n",
      "\n",
      "{'Name': 'Tyrion', 'Season': 1}\n",
      "\n",
      "{'Name': 'Khal', 'Season': 1}\n",
      "\n",
      "{'Name': 'Tywin', 'Season': 1}\n",
      "\n",
      "{'Name': 'Davos', 'Season': 1}\n",
      "\n",
      "{'Name': 'Samwell', 'Season': 1}\n",
      "\n",
      "{'Name': 'Stannis', 'Season': 1}\n",
      "\n",
      "{'Name': 'Melisandre', 'Season': 1}\n",
      "\n",
      "{'Name': 'Margaery', 'Season': 1}\n",
      "\n",
      "{'Name': 'Jeor', 'Season': 1}\n",
      "\n",
      "{'Name': 'Bronn', 'Season': 1}\n",
      "\n",
      "{'Name': 'Varys', 'Season': 1}\n",
      "\n",
      "{'Name': 'Shae', 'Season': 1}\n",
      "\n",
      "{'Name': 'Talisa', 'Season': 1}\n",
      "\n",
      "{'Name': 'Gendry', 'Season': 1}\n",
      "\n",
      "{'Name': 'Ygritte', 'Season': 1}\n",
      "\n",
      "{'Name': 'Tormund', 'Season': 1}\n",
      "\n",
      "{'Name': 'Gilly', 'Season': 1}\n",
      "\n",
      "{'Name': 'Brienne', 'Season': 1}\n",
      "\n",
      "{'Name': 'Ramsay', 'Season': 1}\n",
      "\n",
      "{'Name': 'Ellaria', 'Season': 1}\n",
      "\n",
      "{'Name': 'Daario', 'Season': 1}\n",
      "\n",
      "{'Name': 'Missandei', 'Season': 1}\n",
      "\n",
      "{'Name': 'Tommen', 'Season': 1}\n",
      "\n",
      "{'Name': 'Jaqen', 'Season': 1}\n",
      "\n",
      "{'Name': 'Roose', 'Season': 1}\n",
      "\n",
      "{'Name': 'The High Sparrow', 'Season': 1}\n",
      "\n"
     ]
    }
   ],
   "source": [
    "season_query = \"\"\"\n",
    "    FOR character IN Characters\n",
    "    UPDATE character WITH { season: 1 } IN Characters\n",
    "\"\"\"\n",
    "aql.execute(season_query)\n",
    "\n",
    "all_characters_names_season = \"\"\"\n",
    "    FOR character IN Characters\n",
    "    RETURN {\"Name\" : character.name, \"Season\" : character.season}\n",
    "\"\"\"\n",
    "query_result = aql.execute(all_characters_names_season)\n",
    "\n",
    "for doc in query_result:\n",
    "    print(doc)\n",
    "    print()"
   ]
  },
  {
   "cell_type": "markdown",
   "id": "0c8de68f-8d29-4cef-b507-782f3450e53c",
   "metadata": {},
   "source": [
    "Note, that here we customized the `RETURN` to return a json document consisting of name and season."
   ]
  },
  {
   "cell_type": "markdown",
   "id": "8bb87d24-4f6b-4742-a37f-e97f49de6601",
   "metadata": {},
   "source": [
    "Filtering Documents\n",
    "-------------------\n",
    "\n",
    "To find documents that fulfill certain criteria more complex than key equality, there is the `FILTER` operation in AQL, which enables us to formulate arbitrary conditions for documents to match.\n",
    "\n",
    "We actually have used a filter condition before to find `Ned`:"
   ]
  },
  {
   "cell_type": "code",
   "execution_count": 12,
   "id": "d5a25a5c-f31f-41ca-9b18-c522cf9331e5",
   "metadata": {},
   "outputs": [
    {
     "name": "stdout",
     "output_type": "stream",
     "text": [
      "{'_key': '266270034987', '_id': 'Characters/266270034987', '_rev': '_i4UDbP6---', 'age': 41, 'alive': False, 'name': 'Ned', 'surname': 'Stark', 'traits': ['A', 'H', 'C', 'N', 'P'], 'season': 1}\n",
      "\n"
     ]
    }
   ],
   "source": [
    "find_ned_query = \"\"\"\n",
    "    FOR character IN Characters\n",
    "        FILTER character.name == \"Ned\"\n",
    "        RETURN character\n",
    "\"\"\"\n",
    "query_result = aql.execute(find_ned_query)\n",
    "for doc in query_result:\n",
    "    print(doc)\n",
    "    print()"
   ]
  },
  {
   "cell_type": "markdown",
   "id": "d13df052-c809-4a44-bdea-79dd381d87ce",
   "metadata": {},
   "source": [
    "The filter condition reads like: “the attribute name of a character document must be equal to the string Ned”. If the condition applies, character document gets returned. This works with any attribute likewise:"
   ]
  },
  {
   "cell_type": "code",
   "execution_count": 13,
   "id": "ec98fcc6-0d8f-4562-88b5-2d72175f3559",
   "metadata": {},
   "outputs": [
    {
     "name": "stdout",
     "output_type": "stream",
     "text": [
      "{'_key': '266270034987', '_id': 'Characters/266270034987', '_rev': '_i4UDbP6---', 'age': 41, 'alive': False, 'name': 'Ned', 'surname': 'Stark', 'traits': ['A', 'H', 'C', 'N', 'P'], 'season': 1}\n",
      "\n",
      "{'_key': '266270034991', '_id': 'Characters/266270034991', '_rev': '_i4UDbP6--B', 'name': 'Catelyn', 'surname': 'Stark', 'alive': False, 'age': 40, 'traits': ['D', 'H', 'C'], 'season': 1}\n",
      "\n",
      "{'_key': '266270034998', '_id': 'Characters/266270034998', '_rev': '_i4UDbP6--I', 'name': 'Sansa', 'surname': 'Stark', 'alive': True, 'age': 13, 'traits': ['D', 'I', 'J'], 'season': 1}\n",
      "\n",
      "{'_key': '266270034999', '_id': 'Characters/266270034999', '_rev': '_i4UDbP6--J', 'name': 'Arya', 'surname': 'Stark', 'alive': True, 'age': 11, 'traits': ['C', 'K', 'L'], 'season': 1}\n",
      "\n",
      "{'_key': '266270035000', '_id': 'Characters/266270035000', '_rev': '_i4UDbP6--K', 'name': 'Robb', 'surname': 'Stark', 'alive': False, 'traits': ['A', 'B', 'C', 'K'], 'season': 1}\n",
      "\n",
      "{'_key': '266270035002', '_id': 'Characters/266270035002', '_rev': '_i4UDbP6--M', 'name': 'Bran', 'surname': 'Stark', 'alive': True, 'age': 10, 'traits': ['L', 'J'], 'season': 1}\n",
      "\n"
     ]
    }
   ],
   "source": [
    "find_ned_query = \"\"\"\n",
    "    FOR character IN Characters\n",
    "        FILTER character.surname == \"Stark\"\n",
    "        RETURN character\n",
    "\"\"\"\n",
    "query_result = aql.execute(find_ned_query)\n",
    "for doc in query_result:\n",
    "    print(doc)\n",
    "    print()"
   ]
  },
  {
   "cell_type": "markdown",
   "id": "b4b88221-7279-4283-9b15-5fa88d08045b",
   "metadata": {},
   "source": [
    "### Range Conditions\n",
    "\n",
    "Strict equality is one possible condition we can state. There are plenty of other conditions we can formulate however. For example, we could ask for all young characters:"
   ]
  },
  {
   "cell_type": "code",
   "execution_count": 14,
   "id": "f6ae4dfe-5d9f-490a-aced-4cf18d3e1c6b",
   "metadata": {},
   "outputs": [
    {
     "name": "stdout",
     "output_type": "stream",
     "text": [
      "Ned\n",
      "\n",
      "Jaime\n",
      "\n",
      "Catelyn\n",
      "\n",
      "Cersei\n",
      "\n",
      "Daenerys\n",
      "\n",
      "Jon\n",
      "\n",
      "Sansa\n",
      "\n",
      "Theon\n",
      "\n",
      "Joffrey\n",
      "\n",
      "Tyrion\n",
      "\n",
      "Davos\n",
      "\n",
      "Samwell\n",
      "\n",
      "Brienne\n",
      "\n"
     ]
    }
   ],
   "source": [
    "find_adults_query = \"\"\"\n",
    "    FOR character IN Characters\n",
    "        FILTER character.age >= 13\n",
    "        RETURN character.name\n",
    "\"\"\"\n",
    "query_result = aql.execute(find_adults_query)\n",
    "\n",
    "for doc in query_result:\n",
    "    print(doc)\n",
    "    print()"
   ]
  },
  {
   "cell_type": "markdown",
   "id": "98fd09e3-1903-4ec9-be4d-7d0f53f95b6a",
   "metadata": {},
   "source": [
    "The operator `>=` stands for greater-or-equal, so every character of age 13 or older is returned (only their name in the example). We can return names and age of all characters younger than 13 by changing the operator to less-than and using the object syntax to define a subset of attributes to return:"
   ]
  },
  {
   "cell_type": "code",
   "execution_count": 15,
   "id": "5cda0b7b-6d1f-4ac2-9199-e8734a79a26d",
   "metadata": {},
   "outputs": [
    {
     "name": "stdout",
     "output_type": "stream",
     "text": [
      "{'name': 'Robert', 'age': None}\n",
      "\n",
      "{'name': 'Jorah', 'age': None}\n",
      "\n",
      "{'name': 'Petyr', 'age': None}\n",
      "\n",
      "{'name': 'Viserys', 'age': None}\n",
      "\n",
      "{'name': 'Arya', 'age': 11}\n",
      "\n",
      "{'name': 'Robb', 'age': None}\n",
      "\n",
      "{'name': 'Bran', 'age': 10}\n",
      "\n",
      "{'name': 'Sandor', 'age': None}\n",
      "\n",
      "{'name': 'Khal', 'age': None}\n",
      "\n",
      "{'name': 'Tywin', 'age': None}\n",
      "\n",
      "{'name': 'Stannis', 'age': None}\n",
      "\n",
      "{'name': 'Melisandre', 'age': None}\n",
      "\n",
      "{'name': 'Margaery', 'age': None}\n",
      "\n",
      "{'name': 'Jeor', 'age': None}\n",
      "\n",
      "{'name': 'Bronn', 'age': None}\n",
      "\n",
      "{'name': 'Varys', 'age': None}\n",
      "\n",
      "{'name': 'Shae', 'age': None}\n",
      "\n",
      "{'name': 'Talisa', 'age': None}\n",
      "\n",
      "{'name': 'Gendry', 'age': None}\n",
      "\n",
      "{'name': 'Ygritte', 'age': None}\n",
      "\n",
      "{'name': 'Tormund', 'age': None}\n",
      "\n",
      "{'name': 'Gilly', 'age': None}\n",
      "\n",
      "{'name': 'Ramsay', 'age': None}\n",
      "\n",
      "{'name': 'Ellaria', 'age': None}\n",
      "\n",
      "{'name': 'Daario', 'age': None}\n",
      "\n",
      "{'name': 'Missandei', 'age': None}\n",
      "\n",
      "{'name': 'Tommen', 'age': None}\n",
      "\n",
      "{'name': 'Jaqen', 'age': None}\n",
      "\n",
      "{'name': 'Roose', 'age': None}\n",
      "\n",
      "{'name': 'The High Sparrow', 'age': None}\n",
      "\n"
     ]
    }
   ],
   "source": [
    "find_young_query = \"\"\"\n",
    "    FOR character IN Characters\n",
    "        FILTER character.age < 13\n",
    "        RETURN { name: character.name, age: character.age }\n",
    "\"\"\"\n",
    "query_result = aql.execute(find_young_query)\n",
    "for doc in query_result:\n",
    "    print(doc)\n",
    "    print()   "
   ]
  },
  {
   "cell_type": "markdown",
   "id": "e29185d1-082c-4fe0-bb74-2e638ee09dfa",
   "metadata": {},
   "source": [
    "We may notice that it returns name and age of 30 characters, most with an age of `null`. The reason is that `null` is the fallback value if an attribute is requested by the query, but no such attribute exists in the document, and the `null` is compares to numbers as lower (see [Type and value order](https://arango.qubitpi.org/stable/aql/fundamentals/type-and-value-order/)). Hence, it accidentally fulfills the age criterion `character.age < 13` (`null < 13`). To not let documents pass the filter without an age attribute, we can add a second criterion:"
   ]
  },
  {
   "cell_type": "code",
   "execution_count": 16,
   "id": "f8638e2e-eacc-43ac-b38b-08041aea806e",
   "metadata": {},
   "outputs": [
    {
     "name": "stdout",
     "output_type": "stream",
     "text": [
      "{'name': 'Arya', 'age': 11}\n",
      "\n",
      "{'name': 'Bran', 'age': 10}\n",
      "\n"
     ]
    }
   ],
   "source": [
    "find_young_query = \"\"\"\n",
    "    FOR character IN Characters\n",
    "        FILTER character.age < 13\n",
    "        FILTER character.age != null\n",
    "        RETURN { name: character.name, age: character.age }\n",
    "\"\"\"\n",
    "query_result = aql.execute(find_young_query)\n",
    "for doc in query_result:\n",
    "    print(doc)\n",
    "    print()   "
   ]
  },
  {
   "cell_type": "markdown",
   "id": "d6880292-fbe7-4da7-bd99-634546eafd99",
   "metadata": {},
   "source": [
    "This could equally be written with a boolean `AND` operator as:"
   ]
  },
  {
   "cell_type": "code",
   "execution_count": 17,
   "id": "e32e9a7b-eab2-4343-a7d1-3ae12a00d0a8",
   "metadata": {},
   "outputs": [
    {
     "name": "stdout",
     "output_type": "stream",
     "text": [
      "{'name': 'Arya', 'age': 11}\n",
      "\n",
      "{'name': 'Bran', 'age': 10}\n",
      "\n"
     ]
    }
   ],
   "source": [
    "find_young_query = \"\"\"\n",
    "    FOR character IN Characters\n",
    "        FILTER character.age < 13 AND character.age != null\n",
    "        RETURN { name: character.name, age: character.age }\n",
    "\"\"\"\n",
    "query_result = aql.execute(find_young_query)\n",
    "for doc in query_result:\n",
    "    print(doc)\n",
    "    print()  "
   ]
  },
  {
   "cell_type": "markdown",
   "id": "833e4de8-f9f4-4b27-93ba-3a9c73ea47cf",
   "metadata": {},
   "source": [
    "If we want documents to fulfill one or another condition, possibly for different attributes as well, use `OR`:"
   ]
  },
  {
   "cell_type": "code",
   "execution_count": 18,
   "id": "d2e04b10-a856-4fad-a92f-46b558b731f7",
   "metadata": {},
   "outputs": [
    {
     "name": "stdout",
     "output_type": "stream",
     "text": [
      "{'name': 'Jon', 'surname': 'Snow'}\n",
      "\n",
      "{'name': 'Joffrey', 'surname': 'Baratheon'}\n",
      "\n"
     ]
    }
   ],
   "source": [
    "find_joffrey_query = \"\"\"\n",
    "    FOR character IN Characters\n",
    "        FILTER character.name == \"Jon\" OR character.name == \"Joffrey\"\n",
    "        RETURN { name: character.name, surname: character.surname }\n",
    "\"\"\"\n",
    "query_result = aql.execute(find_joffrey_query)\n",
    "for doc in query_result:\n",
    "    print(doc)\n",
    "    print()  "
   ]
  },
  {
   "cell_type": "markdown",
   "id": "129a19dd-eb22-4a05-8cc7-3717bdaf79d0",
   "metadata": {},
   "source": [
    "To learn more about Filter Operation check the [documentation](https://arango.qubitpi.org/stable/aql/high-level-operations/filter/)."
   ]
  },
  {
   "cell_type": "markdown",
   "id": "f91f21fb-bfdd-47b5-bb51-ad0fca202397",
   "metadata": {},
   "source": [
    "Sorting Documents\n",
    "-----------------"
   ]
  },
  {
   "cell_type": "markdown",
   "id": "f7f9e25b-b1dd-427a-82c5-f88018c179da",
   "metadata": {},
   "source": [
    "To return characters in a defined order, we can add a `SORT()` operation."
   ]
  },
  {
   "cell_type": "code",
   "execution_count": 19,
   "id": "3d0c34d9-b7ef-405e-be1f-11cb8bedf844",
   "metadata": {},
   "outputs": [
    {
     "name": "stdout",
     "output_type": "stream",
     "text": [
      "Arya\n",
      "\n",
      "Bran\n",
      "\n",
      "Brienne\n",
      "\n",
      "Bronn\n",
      "\n",
      "Catelyn\n",
      "\n",
      "Cersei\n",
      "\n",
      "Daario\n",
      "\n",
      "Daenerys\n",
      "\n",
      "Davos\n",
      "\n",
      "Ellaria\n",
      "\n",
      "Gendry\n",
      "\n",
      "Gilly\n",
      "\n",
      "Jaime\n",
      "\n",
      "Jaqen\n",
      "\n",
      "Jeor\n",
      "\n",
      "Joffrey\n",
      "\n",
      "Jon\n",
      "\n",
      "Jorah\n",
      "\n",
      "Khal\n",
      "\n",
      "Margaery\n",
      "\n",
      "Melisandre\n",
      "\n",
      "Missandei\n",
      "\n",
      "Ned\n",
      "\n",
      "Petyr\n",
      "\n",
      "Ramsay\n",
      "\n",
      "Robb\n",
      "\n",
      "Robert\n",
      "\n",
      "Roose\n",
      "\n",
      "Samwell\n",
      "\n",
      "Sandor\n",
      "\n",
      "Sansa\n",
      "\n",
      "Shae\n",
      "\n",
      "Stannis\n",
      "\n",
      "Talisa\n",
      "\n",
      "The High Sparrow\n",
      "\n",
      "Theon\n",
      "\n",
      "Tommen\n",
      "\n",
      "Tormund\n",
      "\n",
      "Tyrion\n",
      "\n",
      "Tywin\n",
      "\n",
      "Varys\n",
      "\n",
      "Viserys\n",
      "\n",
      "Ygritte\n",
      "\n"
     ]
    }
   ],
   "source": [
    "all_characters_names = \"\"\"\n",
    "    FOR character IN Characters\n",
    "        SORT character.name\n",
    "        RETURN character.name\n",
    "\"\"\"\n",
    "query_result = aql.execute(all_characters_names)\n",
    "for doc in query_result:\n",
    "    print(doc)\n",
    "    print()"
   ]
  },
  {
   "cell_type": "markdown",
   "id": "98d27614-5532-49f4-8687-fa9d29f81166",
   "metadata": {},
   "source": [
    "We can reverse the sort order with `DESC`:"
   ]
  },
  {
   "cell_type": "code",
   "execution_count": 20,
   "id": "effcce61-cd28-41dc-8595-be81aaa014cd",
   "metadata": {},
   "outputs": [
    {
     "name": "stdout",
     "output_type": "stream",
     "text": [
      "Ygritte\n",
      "\n",
      "Viserys\n",
      "\n",
      "Varys\n",
      "\n",
      "Tywin\n",
      "\n",
      "Tyrion\n",
      "\n",
      "Tormund\n",
      "\n",
      "Tommen\n",
      "\n",
      "Theon\n",
      "\n",
      "The High Sparrow\n",
      "\n",
      "Talisa\n",
      "\n",
      "Stannis\n",
      "\n",
      "Shae\n",
      "\n",
      "Sansa\n",
      "\n",
      "Sandor\n",
      "\n",
      "Samwell\n",
      "\n",
      "Roose\n",
      "\n",
      "Robert\n",
      "\n",
      "Robb\n",
      "\n",
      "Ramsay\n",
      "\n",
      "Petyr\n",
      "\n",
      "Ned\n",
      "\n",
      "Missandei\n",
      "\n",
      "Melisandre\n",
      "\n",
      "Margaery\n",
      "\n",
      "Khal\n",
      "\n",
      "Jorah\n",
      "\n",
      "Jon\n",
      "\n",
      "Joffrey\n",
      "\n",
      "Jeor\n",
      "\n",
      "Jaqen\n",
      "\n",
      "Jaime\n",
      "\n",
      "Gilly\n",
      "\n",
      "Gendry\n",
      "\n",
      "Ellaria\n",
      "\n",
      "Davos\n",
      "\n",
      "Daenerys\n",
      "\n",
      "Daario\n",
      "\n",
      "Cersei\n",
      "\n",
      "Catelyn\n",
      "\n",
      "Bronn\n",
      "\n",
      "Brienne\n",
      "\n",
      "Bran\n",
      "\n",
      "Arya\n",
      "\n"
     ]
    }
   ],
   "source": [
    "all_characters_names = \"\"\"\n",
    "    FOR character IN Characters\n",
    "        SORT character.name DESC\n",
    "        RETURN character.name\n",
    "\"\"\"\n",
    "query_result = aql.execute(all_characters_names)\n",
    "for doc in query_result:\n",
    "    print(doc)\n",
    "    print()"
   ]
  },
  {
   "cell_type": "markdown",
   "id": "e150d6db-a777-4c24-9aab-372c42ecc2b3",
   "metadata": {},
   "source": [
    "### Sorting by Multiple Attributes\n",
    "\n",
    "Assume we want to sort by surname. Many of the characters share a surname. The result order among characters with the same surname is then undefined. We can first sort by surname, then name to determine the order:"
   ]
  },
  {
   "cell_type": "code",
   "execution_count": 21,
   "id": "276108b5-86c0-43d8-9561-9ecba32b7c01",
   "metadata": {},
   "outputs": [
    {
     "name": "stdout",
     "output_type": "stream",
     "text": [
      "{'surname': 'Baelish', 'name': 'Petyr'}\n",
      "\n",
      "{'surname': 'Baratheon', 'name': 'Joffrey'}\n",
      "\n",
      "{'surname': 'Baratheon', 'name': 'Robert'}\n",
      "\n",
      "{'surname': 'Baratheon', 'name': 'Stannis'}\n",
      "\n",
      "{'surname': 'Baratheon', 'name': 'Tommen'}\n",
      "\n",
      "{'surname': 'Bolton', 'name': 'Ramsay'}\n",
      "\n",
      "{'surname': 'Bolton', 'name': 'Roose'}\n",
      "\n",
      "{'surname': 'Clegane', 'name': 'Sandor'}\n",
      "\n",
      "{'surname': 'Drogo', 'name': 'Khal'}\n",
      "\n",
      "{'surname': 'Giantsbane', 'name': 'Tormund'}\n",
      "\n"
     ]
    }
   ],
   "source": [
    "all_characters_names = \"\"\"\n",
    "    FOR character IN Characters\n",
    "        FILTER character.surname\n",
    "        SORT character.surname, character.name\n",
    "        LIMIT 10\n",
    "        RETURN {\n",
    "            surname: character.surname,\n",
    "            name: character.name\n",
    "        }\n",
    "\"\"\"\n",
    "\n",
    "query_result = aql.execute(all_characters_names)\n",
    "for doc in query_result:\n",
    "    print(doc)\n",
    "    print()"
   ]
  },
  {
   "cell_type": "markdown",
   "id": "efe9acb6-9d2a-49bf-a6e3-fc96a444ffc5",
   "metadata": {},
   "source": [
    "Overall, the documents are sorted by last name. If the surname is the same for two characters, the name values are compared and the result sorted."
   ]
  },
  {
   "cell_type": "markdown",
   "id": "5de52601-b704-4874-9e43-8782e86d5642",
   "metadata": {},
   "source": [
    "More information about `SORT` can be found in its [documentation](https://arango.qubitpi.org/stable/aql/high-level-operations/sort/)"
   ]
  },
  {
   "cell_type": "markdown",
   "id": "738078fa-0ce7-4ec9-ad29-5494a0836b56",
   "metadata": {},
   "source": [
    "Pagination\n",
    "----------\n",
    "\n",
    "It may not always be necessary to return all documents, that a `FOR` loop would normally return. In those cases, we can limit the amount of documents with a `LIMIT()` operation:"
   ]
  },
  {
   "cell_type": "code",
   "execution_count": 22,
   "id": "1d536289-41d1-4c33-bf4a-5c84088cb4d3",
   "metadata": {},
   "outputs": [
    {
     "name": "stdout",
     "output_type": "stream",
     "text": [
      "Arya\n",
      "\n",
      "Bran\n",
      "\n",
      "Brienne\n",
      "\n",
      "Bronn\n",
      "\n",
      "Catelyn\n",
      "\n"
     ]
    }
   ],
   "source": [
    "sample_chars_query = \"\"\"\n",
    "    FOR character IN Characters\n",
    "        SORT character.name\n",
    "        LIMIT 5\n",
    "        RETURN character.name\n",
    "\"\"\"\n",
    "\n",
    "query_result = aql.execute(sample_chars_query)\n",
    "for doc in query_result:\n",
    "    print(doc)\n",
    "    print()  "
   ]
  },
  {
   "cell_type": "markdown",
   "id": "83bf9b4b-985b-42d0-af9d-4fb3365e3fd9",
   "metadata": {},
   "source": [
    "When `LIMIT` is followed 2 numbers, however, the first number specifies the number of documents that are to be skipped and return the next second-number documents. This effectively achieves the pagination:"
   ]
  },
  {
   "cell_type": "code",
   "execution_count": 23,
   "id": "5cafa508-e66b-4437-b757-cc0e98dac984",
   "metadata": {},
   "outputs": [
    {
     "name": "stdout",
     "output_type": "stream",
     "text": [
      "Brienne\n",
      "\n",
      "Bronn\n",
      "\n",
      "Catelyn\n",
      "\n",
      "Cersei\n",
      "\n",
      "Daario\n",
      "\n"
     ]
    }
   ],
   "source": [
    "sample_chars_query = \"\"\"\n",
    "FOR character IN Characters\n",
    "    SORT character.name\n",
    "    LIMIT 2, 5\n",
    "    RETURN character.name\n",
    "\"\"\"\n",
    "query_result = aql.execute(sample_chars_query)\n",
    "for doc in query_result:\n",
    "    print(doc)\n",
    "    print()  "
   ]
  },
  {
   "cell_type": "markdown",
   "id": "8f553d3f-d580-46de-9e47-d84deeb560ea",
   "metadata": {},
   "source": [
    "More information about `LIMIT` can be found in its [documentation](https://arango.qubitpi.org/stable/aql/high-level-operations/limit/)"
   ]
  },
  {
   "cell_type": "markdown",
   "id": "ad6ee549-189d-475b-bd77-2386388cc80d",
   "metadata": {},
   "source": [
    "Putting Everying Together\n",
    "-------------------------\n",
    "\n",
    "Let's address a slightly complex business query - finds the 10 youngest characters:"
   ]
  },
  {
   "cell_type": "code",
   "execution_count": 24,
   "id": "c11226ba-8d03-4e69-9309-53f4e255cfd5",
   "metadata": {},
   "outputs": [
    {
     "name": "stdout",
     "output_type": "stream",
     "text": [
      "{'name': 'Bran', 'age': 10}\n",
      "\n",
      "{'name': 'Arya', 'age': 11}\n",
      "\n",
      "{'name': 'Sansa', 'age': 13}\n",
      "\n",
      "{'name': 'Daenerys', 'age': 16}\n",
      "\n",
      "{'name': 'Jon', 'age': 16}\n",
      "\n",
      "{'name': 'Theon', 'age': 16}\n",
      "\n",
      "{'name': 'Samwell', 'age': 17}\n",
      "\n",
      "{'name': 'Joffrey', 'age': 19}\n",
      "\n",
      "{'name': 'Tyrion', 'age': 32}\n",
      "\n",
      "{'name': 'Brienne', 'age': 32}\n",
      "\n"
     ]
    }
   ],
   "source": [
    "sample_chars_query = \"\"\"\n",
    "    FOR character IN Characters\n",
    "        FILTER character.age\n",
    "        SORT character.age\n",
    "        LIMIT 10\n",
    "        RETURN {\n",
    "            name: character.name,\n",
    "            age: character.age\n",
    "        }\n",
    "\"\"\"\n",
    "\n",
    "query_result = aql.execute(sample_chars_query)\n",
    "for doc in query_result:\n",
    "    print(doc)\n",
    "    print()  "
   ]
  },
  {
   "cell_type": "markdown",
   "id": "0740c019-578b-42fd-b506-a6a6b625d233",
   "metadata": {},
   "source": [
    "Deleting Documents\n",
    "------------------\n",
    "\n",
    "To fully remove documents from a collection, there is the `REMOVE` operation. It works similar to the other modification operations, yet without a `WITH` clause:"
   ]
  },
  {
   "cell_type": "code",
   "execution_count": 25,
   "id": "e0b8de38-e8e9-474a-9ba3-8930df55fccb",
   "metadata": {},
   "outputs": [
    {
     "name": "stdout",
     "output_type": "stream",
     "text": [
      "Ned not found.\n"
     ]
    }
   ],
   "source": [
    "remove_ned = \"\"\"\n",
    "    REMOVE @key IN Characters\n",
    "\"\"\"\n",
    "bindVars = {'key': neds_document_key}\n",
    "\n",
    "try:\n",
    "    aql.execute(remove_ned, bind_vars=bindVars)\n",
    "except:\n",
    "    print(\"Ned already removed.\")\n",
    "\n",
    "find_ned_query = \"\"\"\n",
    "    FOR character IN Characters\n",
    "    FILTER character.name == \"Ned\"\n",
    "    RETURN character\n",
    "\"\"\"\n",
    "query_result = aql.execute(find_ned_query, count=True)\n",
    "\n",
    "if len(query_result) == 0 :\n",
    "    print(\"Ned not found.\")"
   ]
  },
  {
   "cell_type": "markdown",
   "id": "26941e37-8aff-4323-8ca7-b12facee8cd2",
   "metadata": {},
   "source": [
    "As we might have already guessed we can again use a `FOR` loop if we want to perform this operation for the entire collection:"
   ]
  },
  {
   "cell_type": "code",
   "execution_count": 26,
   "id": "c99540e5-10ca-421e-a3df-3c233c67f1b1",
   "metadata": {},
   "outputs": [
    {
     "name": "stdout",
     "output_type": "stream",
     "text": [
      "No characters left.\n"
     ]
    }
   ],
   "source": [
    "remove_all = \"\"\"\n",
    "    FOR character IN Characters\n",
    "    REMOVE character IN Characters\n",
    "\"\"\"\n",
    "aql.execute(remove_all)\n",
    "    \n",
    "all_characters_names = \"\"\"\n",
    "    FOR character IN Characters\n",
    "    RETURN character\n",
    "\"\"\"\n",
    "query_result = aql.execute(all_characters_names, count=True)\n",
    "\n",
    "if len(query_result) == 0 :\n",
    "    print(\"No characters left.\")"
   ]
  }
 ],
 "metadata": {
  "kernelspec": {
   "display_name": "Python 3 (ipykernel)",
   "language": "python",
   "name": "python3"
  },
  "language_info": {
   "codemirror_mode": {
    "name": "ipython",
    "version": 3
   },
   "file_extension": ".py",
   "mimetype": "text/x-python",
   "name": "python",
   "nbconvert_exporter": "python",
   "pygments_lexer": "ipython3",
   "version": "3.10.7"
  }
 },
 "nbformat": 4,
 "nbformat_minor": 5
}
